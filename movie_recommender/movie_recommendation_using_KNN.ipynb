{
  "nbformat": 4,
  "nbformat_minor": 0,
  "metadata": {
    "kernelspec": {
      "display_name": "Python 3",
      "language": "python",
      "name": "python3"
    },
    "language_info": {
      "codemirror_mode": {
        "name": "ipython",
        "version": 3
      },
      "file_extension": ".py",
      "mimetype": "text/x-python",
      "name": "python",
      "nbconvert_exporter": "python",
      "pygments_lexer": "ipython3",
      "version": "3.6.5"
    },
    "colab": {
      "name": "movie_recommendation_using_KNN.ipynb",
      "provenance": []
    }
  },
  "cells": [
    {
      "cell_type": "markdown",
      "metadata": {
        "id": "VEvIzOrPEmwX",
        "colab_type": "text"
      },
      "source": [
        "# Overview\n",
        "\n",
        "In this project, I will build an item-based collaborative filtering system using [MovieLens Datasets](https://grouplens.org/datasets/movielens/latest/). Specically, I will train a KNN models to cluster similar movies based on user's ratings and make movie recommendation based on similarity score of previous rated movies. \n",
        "\n",
        "\n",
        "## [Recommender system](https://en.wikipedia.org/wiki/Recommender_system)\n",
        "A recommendation system is basically an information filtering system that seeks to predict the \"rating\" or \"preference\" a user would give to an item. It is widely used in different internet / online business such as Amazon, Netflix, Spotify, or social media like Facebook and Youtube. By using recommender systems, those companies are able to provide better or more suited products/services/contents that are personalized to a user based on his/her historical consumer behaviors\n",
        "\n",
        "Recommender systems typically produce a list of recommendations through collaborative filtering or through content-based filtering\n",
        "\n",
        "This project will focus on collaborative filtering and use item-based collaborative filtering systems make movie recommendation\n",
        "\n",
        "\n",
        "## [Item-based Collaborative Filtering](https://beckernick.github.io/music_recommender/)\n",
        "Collaborative filtering based systems use the actions of users to recommend other items. In general, they can either be user based or item based. User based collaborating filtering uses the patterns of users similar to me to recommend a product (users like me also looked at these other items). Item based collaborative filtering uses the patterns of users who browsed the same item as me to recommend me a product (users who looked at my item also looked at these other items). Item-based approach is usually prefered than user-based approach. User-based approach is often harder to scale because of the dynamic nature of users, whereas items usually don't change much, so item-based approach often can be computed offline.\n",
        "\n",
        "\n",
        "## Data Sets\n",
        "I use [MovieLens Datasets](https://grouplens.org/datasets/movielens/latest/).\n",
        "This dataset (ml-latest.zip) describes 5-star rating and free-text tagging activity from [MovieLens](http://movielens.org), a movie recommendation service. It contains 27753444 ratings and 1108997 tag applications across 58098 movies. These data were created by 283228 users between January 09, 1995 and September 26, 2018. This dataset was generated on September 26, 2018.\n",
        "\n",
        "Users were selected at random for inclusion. All selected users had rated at least 1 movies. No demographic information is included. Each user is represented by an id, and no other information is provided.\n",
        "\n",
        "The data are contained in the files `genome-scores.csv`, `genome-tags.csv`, `links.csv`, `movies.csv`, `ratings.csv` and `tags.csv`.\n",
        "\n",
        "## Project Content\n",
        "1. Load data\n",
        "2. Exploratory data analysis\n",
        "3. Train KNN model for item-based collaborative filtering\n",
        "4. Use this trained model to make movie recommendations to myself\n",
        "5. Deep dive into the bottleneck of item-based collaborative filtering.\n",
        " - cold start problem\n",
        " - data sparsity problem\n",
        " - popular bias (how to recommend products from the tail of product distribution)\n",
        " - scalability bottleneck\n",
        "6. Further study"
      ]
    },
    {
      "cell_type": "code",
      "metadata": {
        "id": "gQuFjd7nE2LA",
        "colab_type": "code",
        "colab": {
          "base_uri": "https://localhost:8080/",
          "height": 105
        },
        "outputId": "7fe22865-d2f7-4d2c-998b-fa4e61e425d9"
      },
      "source": [
        "!pip install fuzzywuzzy"
      ],
      "execution_count": null,
      "outputs": [
        {
          "output_type": "stream",
          "text": [
            "Collecting fuzzywuzzy\n",
            "  Downloading https://files.pythonhosted.org/packages/43/ff/74f23998ad2f93b945c0309f825be92e04e0348e062026998b5eefef4c33/fuzzywuzzy-0.18.0-py2.py3-none-any.whl\n",
            "Installing collected packages: fuzzywuzzy\n",
            "Successfully installed fuzzywuzzy-0.18.0\n"
          ],
          "name": "stdout"
        }
      ]
    },
    {
      "cell_type": "code",
      "metadata": {
        "id": "H0amUV8vEmwZ",
        "colab_type": "code",
        "colab": {
          "base_uri": "https://localhost:8080/",
          "height": 105
        },
        "outputId": "f55ccb7b-e1a8-45ce-9335-9130acfed889"
      },
      "source": [
        "import os\n",
        "import time\n",
        "\n",
        "# data science imports\n",
        "import math\n",
        "import numpy as np\n",
        "import pandas as pd\n",
        "from scipy.sparse import csr_matrix\n",
        "from sklearn.neighbors import NearestNeighbors\n",
        "\n",
        "# utils import\n",
        "from fuzzywuzzy import fuzz\n",
        "\n",
        "# visualization imports\n",
        "import seaborn as sns\n",
        "import matplotlib.pyplot as plt\n",
        "plt.style.use('ggplot')\n",
        "\n",
        "%matplotlib inline"
      ],
      "execution_count": null,
      "outputs": [
        {
          "output_type": "stream",
          "text": [
            "/usr/local/lib/python3.6/dist-packages/fuzzywuzzy/fuzz.py:11: UserWarning: Using slow pure-python SequenceMatcher. Install python-Levenshtein to remove this warning\n",
            "  warnings.warn('Using slow pure-python SequenceMatcher. Install python-Levenshtein to remove this warning')\n",
            "/usr/local/lib/python3.6/dist-packages/statsmodels/tools/_testing.py:19: FutureWarning: pandas.util.testing is deprecated. Use the functions in the public API at pandas.testing instead.\n",
            "  import pandas.util.testing as tm\n"
          ],
          "name": "stderr"
        }
      ]
    },
    {
      "cell_type": "code",
      "metadata": {
        "id": "uteibXGvEy4e",
        "colab_type": "code",
        "colab": {
          "base_uri": "https://localhost:8080/",
          "height": 204
        },
        "outputId": "1f758f3a-7876-4258-fe4f-45d0228c5a7a"
      },
      "source": [
        "!wget http://files.grouplens.org/datasets/movielens/ml-latest.zip"
      ],
      "execution_count": null,
      "outputs": [
        {
          "output_type": "stream",
          "text": [
            "--2020-09-01 23:50:00--  http://files.grouplens.org/datasets/movielens/ml-latest.zip\n",
            "Resolving files.grouplens.org (files.grouplens.org)... 128.101.65.152\n",
            "Connecting to files.grouplens.org (files.grouplens.org)|128.101.65.152|:80... connected.\n",
            "HTTP request sent, awaiting response... 200 OK\n",
            "Length: 277113433 (264M) [application/zip]\n",
            "Saving to: ‘ml-latest.zip’\n",
            "\n",
            "ml-latest.zip       100%[===================>] 264.28M  16.6MB/s    in 17s     \n",
            "\n",
            "2020-09-01 23:50:18 (15.3 MB/s) - ‘ml-latest.zip’ saved [277113433/277113433]\n",
            "\n"
          ],
          "name": "stdout"
        }
      ]
    },
    {
      "cell_type": "code",
      "metadata": {
        "id": "x8mG43grFCsV",
        "colab_type": "code",
        "colab": {}
      },
      "source": [
        "from zipfile import ZipFile\n",
        "with ZipFile('ml-latest.zip', 'r') as zipObj:\n",
        "   # Extract all the contents of zip file in current directory\n",
        "   zipObj.extractall()"
      ],
      "execution_count": null,
      "outputs": []
    },
    {
      "cell_type": "code",
      "metadata": {
        "id": "8yXdlWgEEmwe",
        "colab_type": "code",
        "colab": {}
      },
      "source": [
        "# path config\n",
        "#data_path = os.path.join(os.environ['DATA_PATH'], 'MovieLens')\n",
        "movies_filename = '/content/ml-latest/movies.csv'\n",
        "ratings_filename = '/content/ml-latest/ratings.csv'"
      ],
      "execution_count": null,
      "outputs": []
    },
    {
      "cell_type": "markdown",
      "metadata": {
        "id": "6naWk_g2Emwh",
        "colab_type": "text"
      },
      "source": [
        "## 1. Load Data"
      ]
    },
    {
      "cell_type": "code",
      "metadata": {
        "id": "lCj1OqfHEmwh",
        "colab_type": "code",
        "colab": {}
      },
      "source": [
        "df_movies = pd.read_csv(\n",
        "    movies_filename,\n",
        "    usecols=['movieId', 'title'],\n",
        "    dtype={'movieId': 'int32', 'title': 'str'})\n",
        "\n",
        "df_ratings = pd.read_csv(\n",
        "    ratings_filename,\n",
        "    usecols=['userId', 'movieId', 'rating'],\n",
        "    dtype={'userId': 'int32', 'movieId': 'int32', 'rating': 'float32'})"
      ],
      "execution_count": null,
      "outputs": []
    },
    {
      "cell_type": "code",
      "metadata": {
        "id": "ncQFtECYEmwk",
        "colab_type": "code",
        "colab": {
          "base_uri": "https://localhost:8080/",
          "height": 170
        },
        "outputId": "0ec403dc-dcda-42d2-cada-8e190c5cfad5"
      },
      "source": [
        "df_movies.info()"
      ],
      "execution_count": null,
      "outputs": [
        {
          "output_type": "stream",
          "text": [
            "<class 'pandas.core.frame.DataFrame'>\n",
            "RangeIndex: 58098 entries, 0 to 58097\n",
            "Data columns (total 2 columns):\n",
            " #   Column   Non-Null Count  Dtype \n",
            "---  ------   --------------  ----- \n",
            " 0   movieId  58098 non-null  int32 \n",
            " 1   title    58098 non-null  object\n",
            "dtypes: int32(1), object(1)\n",
            "memory usage: 681.0+ KB\n"
          ],
          "name": "stdout"
        }
      ]
    },
    {
      "cell_type": "code",
      "metadata": {
        "id": "--5r6VEQEmwn",
        "colab_type": "code",
        "colab": {
          "base_uri": "https://localhost:8080/",
          "height": 187
        },
        "outputId": "6bf0fbb0-2ff7-4403-8a7d-84f476d92a7c"
      },
      "source": [
        "df_ratings.info()"
      ],
      "execution_count": null,
      "outputs": [
        {
          "output_type": "stream",
          "text": [
            "<class 'pandas.core.frame.DataFrame'>\n",
            "RangeIndex: 27753444 entries, 0 to 27753443\n",
            "Data columns (total 3 columns):\n",
            " #   Column   Dtype  \n",
            "---  ------   -----  \n",
            " 0   userId   int32  \n",
            " 1   movieId  int32  \n",
            " 2   rating   float32\n",
            "dtypes: float32(1), int32(2)\n",
            "memory usage: 317.6 MB\n"
          ],
          "name": "stdout"
        }
      ]
    },
    {
      "cell_type": "code",
      "metadata": {
        "id": "sYzCe3hCEmwp",
        "colab_type": "code",
        "colab": {
          "base_uri": "https://localhost:8080/",
          "height": 204
        },
        "outputId": "91ccfb4d-6dc1-4fbb-9c7f-e435362b7318"
      },
      "source": [
        "df_movies.head()"
      ],
      "execution_count": null,
      "outputs": [
        {
          "output_type": "execute_result",
          "data": {
            "text/html": [
              "<div>\n",
              "<style scoped>\n",
              "    .dataframe tbody tr th:only-of-type {\n",
              "        vertical-align: middle;\n",
              "    }\n",
              "\n",
              "    .dataframe tbody tr th {\n",
              "        vertical-align: top;\n",
              "    }\n",
              "\n",
              "    .dataframe thead th {\n",
              "        text-align: right;\n",
              "    }\n",
              "</style>\n",
              "<table border=\"1\" class=\"dataframe\">\n",
              "  <thead>\n",
              "    <tr style=\"text-align: right;\">\n",
              "      <th></th>\n",
              "      <th>movieId</th>\n",
              "      <th>title</th>\n",
              "    </tr>\n",
              "  </thead>\n",
              "  <tbody>\n",
              "    <tr>\n",
              "      <th>0</th>\n",
              "      <td>1</td>\n",
              "      <td>Toy Story (1995)</td>\n",
              "    </tr>\n",
              "    <tr>\n",
              "      <th>1</th>\n",
              "      <td>2</td>\n",
              "      <td>Jumanji (1995)</td>\n",
              "    </tr>\n",
              "    <tr>\n",
              "      <th>2</th>\n",
              "      <td>3</td>\n",
              "      <td>Grumpier Old Men (1995)</td>\n",
              "    </tr>\n",
              "    <tr>\n",
              "      <th>3</th>\n",
              "      <td>4</td>\n",
              "      <td>Waiting to Exhale (1995)</td>\n",
              "    </tr>\n",
              "    <tr>\n",
              "      <th>4</th>\n",
              "      <td>5</td>\n",
              "      <td>Father of the Bride Part II (1995)</td>\n",
              "    </tr>\n",
              "  </tbody>\n",
              "</table>\n",
              "</div>"
            ],
            "text/plain": [
              "   movieId                               title\n",
              "0        1                    Toy Story (1995)\n",
              "1        2                      Jumanji (1995)\n",
              "2        3             Grumpier Old Men (1995)\n",
              "3        4            Waiting to Exhale (1995)\n",
              "4        5  Father of the Bride Part II (1995)"
            ]
          },
          "metadata": {
            "tags": []
          },
          "execution_count": 12
        }
      ]
    },
    {
      "cell_type": "code",
      "metadata": {
        "id": "IAx0dmQfEmwu",
        "colab_type": "code",
        "colab": {
          "base_uri": "https://localhost:8080/",
          "height": 204
        },
        "outputId": "65616013-ef78-4c1b-f040-eeeb766c6a5e"
      },
      "source": [
        "df_ratings.head()"
      ],
      "execution_count": null,
      "outputs": [
        {
          "output_type": "execute_result",
          "data": {
            "text/html": [
              "<div>\n",
              "<style scoped>\n",
              "    .dataframe tbody tr th:only-of-type {\n",
              "        vertical-align: middle;\n",
              "    }\n",
              "\n",
              "    .dataframe tbody tr th {\n",
              "        vertical-align: top;\n",
              "    }\n",
              "\n",
              "    .dataframe thead th {\n",
              "        text-align: right;\n",
              "    }\n",
              "</style>\n",
              "<table border=\"1\" class=\"dataframe\">\n",
              "  <thead>\n",
              "    <tr style=\"text-align: right;\">\n",
              "      <th></th>\n",
              "      <th>userId</th>\n",
              "      <th>movieId</th>\n",
              "      <th>rating</th>\n",
              "    </tr>\n",
              "  </thead>\n",
              "  <tbody>\n",
              "    <tr>\n",
              "      <th>0</th>\n",
              "      <td>1</td>\n",
              "      <td>307</td>\n",
              "      <td>3.5</td>\n",
              "    </tr>\n",
              "    <tr>\n",
              "      <th>1</th>\n",
              "      <td>1</td>\n",
              "      <td>481</td>\n",
              "      <td>3.5</td>\n",
              "    </tr>\n",
              "    <tr>\n",
              "      <th>2</th>\n",
              "      <td>1</td>\n",
              "      <td>1091</td>\n",
              "      <td>1.5</td>\n",
              "    </tr>\n",
              "    <tr>\n",
              "      <th>3</th>\n",
              "      <td>1</td>\n",
              "      <td>1257</td>\n",
              "      <td>4.5</td>\n",
              "    </tr>\n",
              "    <tr>\n",
              "      <th>4</th>\n",
              "      <td>1</td>\n",
              "      <td>1449</td>\n",
              "      <td>4.5</td>\n",
              "    </tr>\n",
              "  </tbody>\n",
              "</table>\n",
              "</div>"
            ],
            "text/plain": [
              "   userId  movieId  rating\n",
              "0       1      307     3.5\n",
              "1       1      481     3.5\n",
              "2       1     1091     1.5\n",
              "3       1     1257     4.5\n",
              "4       1     1449     4.5"
            ]
          },
          "metadata": {
            "tags": []
          },
          "execution_count": 13
        }
      ]
    },
    {
      "cell_type": "code",
      "metadata": {
        "id": "5qwRys3XEmwx",
        "colab_type": "code",
        "colab": {
          "base_uri": "https://localhost:8080/",
          "height": 34
        },
        "outputId": "f516db7e-1eaa-4f2b-c416-bb0fa6f4d87c"
      },
      "source": [
        "num_users = len(df_ratings.userId.unique())\n",
        "num_items = len(df_ratings.movieId.unique())\n",
        "print('There are {} unique users and {} unique movies in this data set'.format(num_users, num_items))"
      ],
      "execution_count": null,
      "outputs": [
        {
          "output_type": "stream",
          "text": [
            "There are 283228 unique users and 53889 unique movies in this data set\n"
          ],
          "name": "stdout"
        }
      ]
    },
    {
      "cell_type": "markdown",
      "metadata": {
        "id": "Rl2_1b9cEmw0",
        "colab_type": "text"
      },
      "source": [
        "## 2. Exploratory data analysis\n",
        " - Plot the counts of each rating\n",
        " - Plot rating frequency of each movie"
      ]
    },
    {
      "cell_type": "markdown",
      "metadata": {
        "id": "MBNmDaoyEmw1",
        "colab_type": "text"
      },
      "source": [
        "#### 1. Plot the counts of each rating"
      ]
    },
    {
      "cell_type": "markdown",
      "metadata": {
        "id": "GnCEuifGEmw1",
        "colab_type": "text"
      },
      "source": [
        "we first need to get the counts of each rating from ratings data"
      ]
    },
    {
      "cell_type": "code",
      "metadata": {
        "id": "xT-CGDGCEmw2",
        "colab_type": "code",
        "colab": {
          "base_uri": "https://localhost:8080/",
          "height": 390
        },
        "outputId": "8e5f3497-fdd6-44b9-c7a6-ec6be337aecf"
      },
      "source": [
        "# get count\n",
        "df_ratings_cnt_tmp = pd.DataFrame(df_ratings.groupby('rating').size(), columns=['count'])\n",
        "df_ratings_cnt_tmp"
      ],
      "execution_count": null,
      "outputs": [
        {
          "output_type": "execute_result",
          "data": {
            "text/html": [
              "<div>\n",
              "<style scoped>\n",
              "    .dataframe tbody tr th:only-of-type {\n",
              "        vertical-align: middle;\n",
              "    }\n",
              "\n",
              "    .dataframe tbody tr th {\n",
              "        vertical-align: top;\n",
              "    }\n",
              "\n",
              "    .dataframe thead th {\n",
              "        text-align: right;\n",
              "    }\n",
              "</style>\n",
              "<table border=\"1\" class=\"dataframe\">\n",
              "  <thead>\n",
              "    <tr style=\"text-align: right;\">\n",
              "      <th></th>\n",
              "      <th>count</th>\n",
              "    </tr>\n",
              "    <tr>\n",
              "      <th>rating</th>\n",
              "      <th></th>\n",
              "    </tr>\n",
              "  </thead>\n",
              "  <tbody>\n",
              "    <tr>\n",
              "      <th>0.5</th>\n",
              "      <td>442388</td>\n",
              "    </tr>\n",
              "    <tr>\n",
              "      <th>1.0</th>\n",
              "      <td>886233</td>\n",
              "    </tr>\n",
              "    <tr>\n",
              "      <th>1.5</th>\n",
              "      <td>441354</td>\n",
              "    </tr>\n",
              "    <tr>\n",
              "      <th>2.0</th>\n",
              "      <td>1850627</td>\n",
              "    </tr>\n",
              "    <tr>\n",
              "      <th>2.5</th>\n",
              "      <td>1373419</td>\n",
              "    </tr>\n",
              "    <tr>\n",
              "      <th>3.0</th>\n",
              "      <td>5515668</td>\n",
              "    </tr>\n",
              "    <tr>\n",
              "      <th>3.5</th>\n",
              "      <td>3404360</td>\n",
              "    </tr>\n",
              "    <tr>\n",
              "      <th>4.0</th>\n",
              "      <td>7394710</td>\n",
              "    </tr>\n",
              "    <tr>\n",
              "      <th>4.5</th>\n",
              "      <td>2373550</td>\n",
              "    </tr>\n",
              "    <tr>\n",
              "      <th>5.0</th>\n",
              "      <td>4071135</td>\n",
              "    </tr>\n",
              "  </tbody>\n",
              "</table>\n",
              "</div>"
            ],
            "text/plain": [
              "          count\n",
              "rating         \n",
              "0.5      442388\n",
              "1.0      886233\n",
              "1.5      441354\n",
              "2.0     1850627\n",
              "2.5     1373419\n",
              "3.0     5515668\n",
              "3.5     3404360\n",
              "4.0     7394710\n",
              "4.5     2373550\n",
              "5.0     4071135"
            ]
          },
          "metadata": {
            "tags": []
          },
          "execution_count": 15
        }
      ]
    },
    {
      "cell_type": "markdown",
      "metadata": {
        "id": "1sBJMb8HEmw5",
        "colab_type": "text"
      },
      "source": [
        "We can see that above table does not include counts of zero rating score. So we need to add that in rating count dataframe as well"
      ]
    },
    {
      "cell_type": "code",
      "metadata": {
        "id": "bEqekeskEmw6",
        "colab_type": "code",
        "colab": {
          "base_uri": "https://localhost:8080/",
          "height": 390
        },
        "outputId": "02f16fde-82fe-4cab-b678-8ad5611ef0c8"
      },
      "source": [
        "# there are a lot more counts in rating of zero\n",
        "total_cnt = num_users * num_items\n",
        "rating_zero_cnt = total_cnt - df_ratings.shape[0]\n",
        "# append counts of zero rating to df_ratings_cnt\n",
        "df_ratings_cnt = df_ratings_cnt_tmp.append(\n",
        "    pd.DataFrame({'count': rating_zero_cnt}, index=[0.0]),\n",
        "    verify_integrity=True,\n",
        ").sort_index()\n",
        "df_ratings_cnt"
      ],
      "execution_count": null,
      "outputs": [
        {
          "output_type": "execute_result",
          "data": {
            "text/html": [
              "<div>\n",
              "<style scoped>\n",
              "    .dataframe tbody tr th:only-of-type {\n",
              "        vertical-align: middle;\n",
              "    }\n",
              "\n",
              "    .dataframe tbody tr th {\n",
              "        vertical-align: top;\n",
              "    }\n",
              "\n",
              "    .dataframe thead th {\n",
              "        text-align: right;\n",
              "    }\n",
              "</style>\n",
              "<table border=\"1\" class=\"dataframe\">\n",
              "  <thead>\n",
              "    <tr style=\"text-align: right;\">\n",
              "      <th></th>\n",
              "      <th>count</th>\n",
              "    </tr>\n",
              "  </thead>\n",
              "  <tbody>\n",
              "    <tr>\n",
              "      <th>0.0</th>\n",
              "      <td>15235120248</td>\n",
              "    </tr>\n",
              "    <tr>\n",
              "      <th>0.5</th>\n",
              "      <td>442388</td>\n",
              "    </tr>\n",
              "    <tr>\n",
              "      <th>1.0</th>\n",
              "      <td>886233</td>\n",
              "    </tr>\n",
              "    <tr>\n",
              "      <th>1.5</th>\n",
              "      <td>441354</td>\n",
              "    </tr>\n",
              "    <tr>\n",
              "      <th>2.0</th>\n",
              "      <td>1850627</td>\n",
              "    </tr>\n",
              "    <tr>\n",
              "      <th>2.5</th>\n",
              "      <td>1373419</td>\n",
              "    </tr>\n",
              "    <tr>\n",
              "      <th>3.0</th>\n",
              "      <td>5515668</td>\n",
              "    </tr>\n",
              "    <tr>\n",
              "      <th>3.5</th>\n",
              "      <td>3404360</td>\n",
              "    </tr>\n",
              "    <tr>\n",
              "      <th>4.0</th>\n",
              "      <td>7394710</td>\n",
              "    </tr>\n",
              "    <tr>\n",
              "      <th>4.5</th>\n",
              "      <td>2373550</td>\n",
              "    </tr>\n",
              "    <tr>\n",
              "      <th>5.0</th>\n",
              "      <td>4071135</td>\n",
              "    </tr>\n",
              "  </tbody>\n",
              "</table>\n",
              "</div>"
            ],
            "text/plain": [
              "           count\n",
              "0.0  15235120248\n",
              "0.5       442388\n",
              "1.0       886233\n",
              "1.5       441354\n",
              "2.0      1850627\n",
              "2.5      1373419\n",
              "3.0      5515668\n",
              "3.5      3404360\n",
              "4.0      7394710\n",
              "4.5      2373550\n",
              "5.0      4071135"
            ]
          },
          "metadata": {
            "tags": []
          },
          "execution_count": 16
        }
      ]
    },
    {
      "cell_type": "markdown",
      "metadata": {
        "id": "uVIW0ufNEmw9",
        "colab_type": "text"
      },
      "source": [
        "The count for zero rating score is too big to compare with others. So let's take log transform for count values and then we can plot them to compare"
      ]
    },
    {
      "cell_type": "code",
      "metadata": {
        "id": "gjIMiYsSEmw9",
        "colab_type": "code",
        "colab": {
          "base_uri": "https://localhost:8080/",
          "height": 390
        },
        "outputId": "4e241f01-452d-4f6c-d32c-d66177a162f6"
      },
      "source": [
        "# add log count\n",
        "df_ratings_cnt['log_count'] = np.log(df_ratings_cnt['count'])\n",
        "df_ratings_cnt"
      ],
      "execution_count": null,
      "outputs": [
        {
          "output_type": "execute_result",
          "data": {
            "text/html": [
              "<div>\n",
              "<style scoped>\n",
              "    .dataframe tbody tr th:only-of-type {\n",
              "        vertical-align: middle;\n",
              "    }\n",
              "\n",
              "    .dataframe tbody tr th {\n",
              "        vertical-align: top;\n",
              "    }\n",
              "\n",
              "    .dataframe thead th {\n",
              "        text-align: right;\n",
              "    }\n",
              "</style>\n",
              "<table border=\"1\" class=\"dataframe\">\n",
              "  <thead>\n",
              "    <tr style=\"text-align: right;\">\n",
              "      <th></th>\n",
              "      <th>count</th>\n",
              "      <th>log_count</th>\n",
              "    </tr>\n",
              "  </thead>\n",
              "  <tbody>\n",
              "    <tr>\n",
              "      <th>0.0</th>\n",
              "      <td>15235120248</td>\n",
              "      <td>23.446869</td>\n",
              "    </tr>\n",
              "    <tr>\n",
              "      <th>0.5</th>\n",
              "      <td>442388</td>\n",
              "      <td>12.999943</td>\n",
              "    </tr>\n",
              "    <tr>\n",
              "      <th>1.0</th>\n",
              "      <td>886233</td>\n",
              "      <td>13.694735</td>\n",
              "    </tr>\n",
              "    <tr>\n",
              "      <th>1.5</th>\n",
              "      <td>441354</td>\n",
              "      <td>12.997603</td>\n",
              "    </tr>\n",
              "    <tr>\n",
              "      <th>2.0</th>\n",
              "      <td>1850627</td>\n",
              "      <td>14.431035</td>\n",
              "    </tr>\n",
              "    <tr>\n",
              "      <th>2.5</th>\n",
              "      <td>1373419</td>\n",
              "      <td>14.132814</td>\n",
              "    </tr>\n",
              "    <tr>\n",
              "      <th>3.0</th>\n",
              "      <td>5515668</td>\n",
              "      <td>15.523103</td>\n",
              "    </tr>\n",
              "    <tr>\n",
              "      <th>3.5</th>\n",
              "      <td>3404360</td>\n",
              "      <td>15.040568</td>\n",
              "    </tr>\n",
              "    <tr>\n",
              "      <th>4.0</th>\n",
              "      <td>7394710</td>\n",
              "      <td>15.816275</td>\n",
              "    </tr>\n",
              "    <tr>\n",
              "      <th>4.5</th>\n",
              "      <td>2373550</td>\n",
              "      <td>14.679897</td>\n",
              "    </tr>\n",
              "    <tr>\n",
              "      <th>5.0</th>\n",
              "      <td>4071135</td>\n",
              "      <td>15.219432</td>\n",
              "    </tr>\n",
              "  </tbody>\n",
              "</table>\n",
              "</div>"
            ],
            "text/plain": [
              "           count  log_count\n",
              "0.0  15235120248  23.446869\n",
              "0.5       442388  12.999943\n",
              "1.0       886233  13.694735\n",
              "1.5       441354  12.997603\n",
              "2.0      1850627  14.431035\n",
              "2.5      1373419  14.132814\n",
              "3.0      5515668  15.523103\n",
              "3.5      3404360  15.040568\n",
              "4.0      7394710  15.816275\n",
              "4.5      2373550  14.679897\n",
              "5.0      4071135  15.219432"
            ]
          },
          "metadata": {
            "tags": []
          },
          "execution_count": 17
        }
      ]
    },
    {
      "cell_type": "code",
      "metadata": {
        "id": "GG716kL7EmxA",
        "colab_type": "code",
        "colab": {
          "base_uri": "https://localhost:8080/",
          "height": 543
        },
        "outputId": "6bd70de2-27af-4380-f68c-5f93a191eaee"
      },
      "source": [
        "ax = df_ratings_cnt[['count']].reset_index().rename(columns={'index': 'rating score'}).plot(\n",
        "    x='rating score',\n",
        "    y='count',\n",
        "    kind='bar',\n",
        "    figsize=(12, 8),\n",
        "    title='Count for Each Rating Score (in Log Scale)',\n",
        "    logy=True,\n",
        "    fontsize=12,\n",
        ")\n",
        "ax.set_xlabel(\"movie rating score\")\n",
        "ax.set_ylabel(\"number of ratings\")"
      ],
      "execution_count": null,
      "outputs": [
        {
          "output_type": "execute_result",
          "data": {
            "text/plain": [
              "Text(0, 0.5, 'number of ratings')"
            ]
          },
          "metadata": {
            "tags": []
          },
          "execution_count": 18
        },
        {
          "output_type": "display_data",
          "data": {
            "image/png": "[encoded data removed]",
            "text/plain": [
              "<Figure size 864x576 with 1 Axes>"
            ]
          },
          "metadata": {
            "tags": [],
            "needs_background": "light"
          }
        }
      ]
    },
    {
      "cell_type": "markdown",
      "metadata": {
        "id": "RmMY0iDPEmxC",
        "colab_type": "text"
      },
      "source": [
        "It's interesting that there are more people giving rating score of 3 and 4 than other scores "
      ]
    },
    {
      "cell_type": "markdown",
      "metadata": {
        "id": "4rSBb7kVEmxC",
        "colab_type": "text"
      },
      "source": [
        "#### 2. Plot rating frequency of all movies"
      ]
    },
    {
      "cell_type": "code",
      "metadata": {
        "id": "xrC3fjqIEmxD",
        "colab_type": "code",
        "colab": {
          "base_uri": "https://localhost:8080/",
          "height": 204
        },
        "outputId": "bd5b4e69-08a2-45cb-821f-20c6746fbf81"
      },
      "source": [
        "df_ratings.head()"
      ],
      "execution_count": null,
      "outputs": [
        {
          "output_type": "execute_result",
          "data": {
            "text/html": [
              "<div>\n",
              "<style scoped>\n",
              "    .dataframe tbody tr th:only-of-type {\n",
              "        vertical-align: middle;\n",
              "    }\n",
              "\n",
              "    .dataframe tbody tr th {\n",
              "        vertical-align: top;\n",
              "    }\n",
              "\n",
              "    .dataframe thead th {\n",
              "        text-align: right;\n",
              "    }\n",
              "</style>\n",
              "<table border=\"1\" class=\"dataframe\">\n",
              "  <thead>\n",
              "    <tr style=\"text-align: right;\">\n",
              "      <th></th>\n",
              "      <th>userId</th>\n",
              "      <th>movieId</th>\n",
              "      <th>rating</th>\n",
              "    </tr>\n",
              "  </thead>\n",
              "  <tbody>\n",
              "    <tr>\n",
              "      <th>0</th>\n",
              "      <td>1</td>\n",
              "      <td>307</td>\n",
              "      <td>3.5</td>\n",
              "    </tr>\n",
              "    <tr>\n",
              "      <th>1</th>\n",
              "      <td>1</td>\n",
              "      <td>481</td>\n",
              "      <td>3.5</td>\n",
              "    </tr>\n",
              "    <tr>\n",
              "      <th>2</th>\n",
              "      <td>1</td>\n",
              "      <td>1091</td>\n",
              "      <td>1.5</td>\n",
              "    </tr>\n",
              "    <tr>\n",
              "      <th>3</th>\n",
              "      <td>1</td>\n",
              "      <td>1257</td>\n",
              "      <td>4.5</td>\n",
              "    </tr>\n",
              "    <tr>\n",
              "      <th>4</th>\n",
              "      <td>1</td>\n",
              "      <td>1449</td>\n",
              "      <td>4.5</td>\n",
              "    </tr>\n",
              "  </tbody>\n",
              "</table>\n",
              "</div>"
            ],
            "text/plain": [
              "   userId  movieId  rating\n",
              "0       1      307     3.5\n",
              "1       1      481     3.5\n",
              "2       1     1091     1.5\n",
              "3       1     1257     4.5\n",
              "4       1     1449     4.5"
            ]
          },
          "metadata": {
            "tags": []
          },
          "execution_count": 19
        }
      ]
    },
    {
      "cell_type": "code",
      "metadata": {
        "id": "TQ20zxXOEmxF",
        "colab_type": "code",
        "colab": {
          "base_uri": "https://localhost:8080/",
          "height": 235
        },
        "outputId": "82503f60-2396-4426-8aaf-ecbbd07cd383"
      },
      "source": [
        "# get rating frequency\n",
        "df_movies_cnt = pd.DataFrame(df_ratings.groupby('movieId').size(), columns=['count'])\n",
        "df_movies_cnt.head()"
      ],
      "execution_count": null,
      "outputs": [
        {
          "output_type": "execute_result",
          "data": {
            "text/html": [
              "<div>\n",
              "<style scoped>\n",
              "    .dataframe tbody tr th:only-of-type {\n",
              "        vertical-align: middle;\n",
              "    }\n",
              "\n",
              "    .dataframe tbody tr th {\n",
              "        vertical-align: top;\n",
              "    }\n",
              "\n",
              "    .dataframe thead th {\n",
              "        text-align: right;\n",
              "    }\n",
              "</style>\n",
              "<table border=\"1\" class=\"dataframe\">\n",
              "  <thead>\n",
              "    <tr style=\"text-align: right;\">\n",
              "      <th></th>\n",
              "      <th>count</th>\n",
              "    </tr>\n",
              "    <tr>\n",
              "      <th>movieId</th>\n",
              "      <th></th>\n",
              "    </tr>\n",
              "  </thead>\n",
              "  <tbody>\n",
              "    <tr>\n",
              "      <th>1</th>\n",
              "      <td>68469</td>\n",
              "    </tr>\n",
              "    <tr>\n",
              "      <th>2</th>\n",
              "      <td>27143</td>\n",
              "    </tr>\n",
              "    <tr>\n",
              "      <th>3</th>\n",
              "      <td>15585</td>\n",
              "    </tr>\n",
              "    <tr>\n",
              "      <th>4</th>\n",
              "      <td>2989</td>\n",
              "    </tr>\n",
              "    <tr>\n",
              "      <th>5</th>\n",
              "      <td>15474</td>\n",
              "    </tr>\n",
              "  </tbody>\n",
              "</table>\n",
              "</div>"
            ],
            "text/plain": [
              "         count\n",
              "movieId       \n",
              "1        68469\n",
              "2        27143\n",
              "3        15585\n",
              "4         2989\n",
              "5        15474"
            ]
          },
          "metadata": {
            "tags": []
          },
          "execution_count": 20
        }
      ]
    },
    {
      "cell_type": "code",
      "metadata": {
        "id": "4umBr_WHEmxI",
        "colab_type": "code",
        "colab": {
          "base_uri": "https://localhost:8080/",
          "height": 537
        },
        "outputId": "d32650f3-5d75-4600-a0af-4e35031cb1ab"
      },
      "source": [
        "# plot rating frequency of all movies\n",
        "ax = df_movies_cnt \\\n",
        "    .sort_values('count', ascending=False) \\\n",
        "    .reset_index(drop=True) \\\n",
        "    .plot(\n",
        "        figsize=(12, 8),\n",
        "        title='Rating Frequency of All Movies',\n",
        "        fontsize=12\n",
        "    )\n",
        "ax.set_xlabel(\"movie Id\")\n",
        "ax.set_ylabel(\"number of ratings\")"
      ],
      "execution_count": null,
      "outputs": [
        {
          "output_type": "execute_result",
          "data": {
            "text/plain": [
              "Text(0, 0.5, 'number of ratings')"
            ]
          },
          "metadata": {
            "tags": []
          },
          "execution_count": 21
        },
        {
          "output_type": "display_data",
          "data": {
            "image/png": "[encoded data removed]",
            "text/plain": [
              "<Figure size 864x576 with 1 Axes>"
            ]
          },
          "metadata": {
            "tags": [],
            "needs_background": "light"
          }
        }
      ]
    },
    {
      "cell_type": "markdown",
      "metadata": {
        "id": "PNG2Gr2OEmxK",
        "colab_type": "text"
      },
      "source": [
        "The distribution of ratings among movies often satisfies a property in real-world settings,\n",
        "which is referred to as the long-tail property. According to this property, only a small\n",
        "fraction of the items are rated frequently. Such items are referred to as popular items. The\n",
        "vast majority of items are rated rarely. This results in a highly skewed distribution of the\n",
        "underlying ratings."
      ]
    },
    {
      "cell_type": "markdown",
      "metadata": {
        "id": "8dNan1LLEmxL",
        "colab_type": "text"
      },
      "source": [
        "Let's plot the same distribution but with log scale"
      ]
    },
    {
      "cell_type": "code",
      "metadata": {
        "id": "ZcRvPehFEmxL",
        "colab_type": "code",
        "colab": {
          "base_uri": "https://localhost:8080/",
          "height": 537
        },
        "outputId": "b221e148-a971-43bf-9dca-c7a71ad6dc24"
      },
      "source": [
        "# plot rating frequency of all movies in log scale\n",
        "ax = df_movies_cnt \\\n",
        "    .sort_values('count', ascending=False) \\\n",
        "    .reset_index(drop=True) \\\n",
        "    .plot(\n",
        "        figsize=(12, 8),\n",
        "        title='Rating Frequency of All Movies (in Log Scale)',\n",
        "        fontsize=12,\n",
        "        logy=True\n",
        "    )\n",
        "ax.set_xlabel(\"movie Id\")\n",
        "ax.set_ylabel(\"number of ratings (log scale)\")"
      ],
      "execution_count": null,
      "outputs": [
        {
          "output_type": "execute_result",
          "data": {
            "text/plain": [
              "Text(0, 0.5, 'number of ratings (log scale)')"
            ]
          },
          "metadata": {
            "tags": []
          },
          "execution_count": 22
        },
        {
          "output_type": "display_data",
          "data": {
            "image/png": "[encoded data removed]",
            "text/plain": [
              "<Figure size 864x576 with 1 Axes>"
            ]
          },
          "metadata": {
            "tags": [],
            "needs_background": "light"
          }
        }
      ]
    },
    {
      "cell_type": "markdown",
      "metadata": {
        "id": "6IpzFZEnEmxO",
        "colab_type": "text"
      },
      "source": [
        "We can see that roughly 10,000 out of 53,889 movies are rated more than 100 times. More interestingly, roughly 20,000 out of 53,889 movies are rated less than only 10 times. Let's look closer by displaying top quantiles of rating counts"
      ]
    },
    {
      "cell_type": "code",
      "metadata": {
        "id": "jGanU6kGEmxO",
        "colab_type": "code",
        "colab": {
          "base_uri": "https://localhost:8080/",
          "height": 170
        },
        "outputId": "8a431e5f-e66e-49b3-c4b8-626eb86c0d5e"
      },
      "source": [
        "df_movies_cnt['count'].quantile(np.arange(1, 0.6, -0.05))"
      ],
      "execution_count": null,
      "outputs": [
        {
          "output_type": "execute_result",
          "data": {
            "text/plain": [
              "1.00    97999.0\n",
              "0.95     1855.0\n",
              "0.90      531.0\n",
              "0.85      205.0\n",
              "0.80       91.0\n",
              "0.75       48.0\n",
              "0.70       28.0\n",
              "0.65       18.0\n",
              "Name: count, dtype: float64"
            ]
          },
          "metadata": {
            "tags": []
          },
          "execution_count": 23
        }
      ]
    },
    {
      "cell_type": "markdown",
      "metadata": {
        "id": "TWl3QBw1EmxR",
        "colab_type": "text"
      },
      "source": [
        "So about 1% of movies have roughly 97,999 or more ratings, 5% have 1,855 or more, and 20% have 100 or more. Since we have so many movies, we'll limit it to the top 25%. This is arbitrary threshold for popularity, but it gives us about 13,500 different movies. We still have pretty good amount of movies for modeling. There are two reasons why we want to filter to roughly 13,500 movies in our dataset.\n",
        " - Memory issue: we don't want to run into the “MemoryError” during model training\n",
        " - Improve KNN performance: lesser known movies have ratings from fewer viewers, making the pattern more noisy. Droping out less known movies can improve recommendation quality"
      ]
    },
    {
      "cell_type": "code",
      "metadata": {
        "id": "JqPeMUjfEmxR",
        "colab_type": "code",
        "colab": {
          "base_uri": "https://localhost:8080/",
          "height": 51
        },
        "outputId": "1ba9367e-ba06-4fdf-fb5d-2b0f24d534d1"
      },
      "source": [
        "# filter data\n",
        "popularity_thres = 50\n",
        "popular_movies = list(set(df_movies_cnt.query('count >= @popularity_thres').index))\n",
        "df_ratings_drop_movies = df_ratings[df_ratings.movieId.isin(popular_movies)]\n",
        "print('shape of original ratings data: ', df_ratings.shape)\n",
        "print('shape of ratings data after dropping unpopular movies: ', df_ratings_drop_movies.shape)"
      ],
      "execution_count": null,
      "outputs": [
        {
          "output_type": "stream",
          "text": [
            "shape of original ratings data:  (27753444, 3)\n",
            "shape of ratings data after dropping unpopular movies:  (27430748, 3)\n"
          ],
          "name": "stdout"
        }
      ]
    },
    {
      "cell_type": "markdown",
      "metadata": {
        "id": "5-C1x6WREmxT",
        "colab_type": "text"
      },
      "source": [
        "After dropping 75% of movies in our dataset, we still have a very large dataset. So next we can filter users to further reduce the size of data"
      ]
    },
    {
      "cell_type": "code",
      "metadata": {
        "id": "zKoWR4sCEmxU",
        "colab_type": "code",
        "colab": {
          "base_uri": "https://localhost:8080/",
          "height": 235
        },
        "outputId": "2d3dc01d-1434-4780-8fb1-daa6df3f3c1e"
      },
      "source": [
        "# get number of ratings given by every user\n",
        "df_users_cnt = pd.DataFrame(df_ratings_drop_movies.groupby('userId').size(), columns=['count'])\n",
        "df_users_cnt.head()"
      ],
      "execution_count": null,
      "outputs": [
        {
          "output_type": "execute_result",
          "data": {
            "text/html": [
              "<div>\n",
              "<style scoped>\n",
              "    .dataframe tbody tr th:only-of-type {\n",
              "        vertical-align: middle;\n",
              "    }\n",
              "\n",
              "    .dataframe tbody tr th {\n",
              "        vertical-align: top;\n",
              "    }\n",
              "\n",
              "    .dataframe thead th {\n",
              "        text-align: right;\n",
              "    }\n",
              "</style>\n",
              "<table border=\"1\" class=\"dataframe\">\n",
              "  <thead>\n",
              "    <tr style=\"text-align: right;\">\n",
              "      <th></th>\n",
              "      <th>count</th>\n",
              "    </tr>\n",
              "    <tr>\n",
              "      <th>userId</th>\n",
              "      <th></th>\n",
              "    </tr>\n",
              "  </thead>\n",
              "  <tbody>\n",
              "    <tr>\n",
              "      <th>1</th>\n",
              "      <td>16</td>\n",
              "    </tr>\n",
              "    <tr>\n",
              "      <th>2</th>\n",
              "      <td>15</td>\n",
              "    </tr>\n",
              "    <tr>\n",
              "      <th>3</th>\n",
              "      <td>11</td>\n",
              "    </tr>\n",
              "    <tr>\n",
              "      <th>4</th>\n",
              "      <td>736</td>\n",
              "    </tr>\n",
              "    <tr>\n",
              "      <th>5</th>\n",
              "      <td>72</td>\n",
              "    </tr>\n",
              "  </tbody>\n",
              "</table>\n",
              "</div>"
            ],
            "text/plain": [
              "        count\n",
              "userId       \n",
              "1          16\n",
              "2          15\n",
              "3          11\n",
              "4         736\n",
              "5          72"
            ]
          },
          "metadata": {
            "tags": []
          },
          "execution_count": 25
        }
      ]
    },
    {
      "cell_type": "code",
      "metadata": {
        "id": "FbQkvJueEmxW",
        "colab_type": "code",
        "colab": {
          "base_uri": "https://localhost:8080/",
          "height": 537
        },
        "outputId": "36cb75c3-4cc2-46df-e008-cba30279de8b"
      },
      "source": [
        "# plot rating frequency of all movies\n",
        "ax = df_users_cnt \\\n",
        "    .sort_values('count', ascending=False) \\\n",
        "    .reset_index(drop=True) \\\n",
        "    .plot(\n",
        "        figsize=(12, 8),\n",
        "        title='Rating Frequency of All Users',\n",
        "        fontsize=12\n",
        "    )\n",
        "ax.set_xlabel(\"user Id\")\n",
        "ax.set_ylabel(\"number of ratings\")"
      ],
      "execution_count": null,
      "outputs": [
        {
          "output_type": "execute_result",
          "data": {
            "text/plain": [
              "Text(0, 0.5, 'number of ratings')"
            ]
          },
          "metadata": {
            "tags": []
          },
          "execution_count": 26
        },
        {
          "output_type": "display_data",
          "data": {
            "image/png": "[encoded data removed]",
            "text/plain": [
              "<Figure size 864x576 with 1 Axes>"
            ]
          },
          "metadata": {
            "tags": [],
            "needs_background": "light"
          }
        }
      ]
    },
    {
      "cell_type": "code",
      "metadata": {
        "id": "uEH7A7_WEmxY",
        "colab_type": "code",
        "colab": {
          "base_uri": "https://localhost:8080/",
          "height": 204
        },
        "outputId": "237662bf-0db7-42a0-eeaf-7cfd96ac93d3"
      },
      "source": [
        "df_users_cnt['count'].quantile(np.arange(1, 0.5, -0.05))"
      ],
      "execution_count": null,
      "outputs": [
        {
          "output_type": "execute_result",
          "data": {
            "text/plain": [
              "1.00    9384.0\n",
              "0.95     403.0\n",
              "0.90     239.0\n",
              "0.85     164.0\n",
              "0.80     121.0\n",
              "0.75      94.0\n",
              "0.70      73.0\n",
              "0.65      58.0\n",
              "0.60      47.0\n",
              "0.55      37.0\n",
              "Name: count, dtype: float64"
            ]
          },
          "metadata": {
            "tags": []
          },
          "execution_count": 27
        }
      ]
    },
    {
      "cell_type": "markdown",
      "metadata": {
        "id": "4oW8O8xtEmxa",
        "colab_type": "text"
      },
      "source": [
        "We can see that the distribution of ratings by users is very similar to the distribution of ratings among movies. They both have long-tail property. Only a very small fraction of users are very actively engaged with rating movies that they watched. Vast majority of users aren't interested in rating movies. So we can limit users to the top 40%, which is about 113,291 users."
      ]
    },
    {
      "cell_type": "code",
      "metadata": {
        "id": "t6q9Oq79Emxa",
        "colab_type": "code",
        "colab": {
          "base_uri": "https://localhost:8080/",
          "height": 71
        },
        "outputId": "1baa2cb0-42fc-4da9-94ba-09912550c347"
      },
      "source": [
        "# filter data\n",
        "ratings_thres = 50\n",
        "active_users = list(set(df_users_cnt.query('count >= @ratings_thres').index))\n",
        "df_ratings_drop_users = df_ratings_drop_movies[df_ratings_drop_movies.userId.isin(active_users)]\n",
        "print('shape of original ratings data: ', df_ratings.shape)\n",
        "print('shape of ratings data after dropping both unpopular movies and inactive users: ', df_ratings_drop_users.shape)"
      ],
      "execution_count": null,
      "outputs": [
        {
          "output_type": "stream",
          "text": [
            "shape of original ratings data:  (27753444, 3)\n",
            "shape of ratings data after dropping both unpopular movies and inactive users:  (24178982, 3)\n"
          ],
          "name": "stdout"
        }
      ]
    },
    {
      "cell_type": "markdown",
      "metadata": {
        "id": "vS7HStTyEmxc",
        "colab_type": "text"
      },
      "source": [
        "## 3. Train KNN model for item-based collaborative filtering\n",
        " - Reshaping the Data\n",
        " - Fitting the Model"
      ]
    },
    {
      "cell_type": "markdown",
      "metadata": {
        "id": "-G8pqR3-Emxd",
        "colab_type": "text"
      },
      "source": [
        "#### 1. Reshaping the Data\n",
        "For K-Nearest Neighbors, we want the data to be in an (artist, user) array, where each row is a movie and each column is a different user. To reshape the dataframe, we'll pivot the dataframe to the wide format with movies as rows and users as columns. Then we'll fill the missing observations with 0s since we're going to be performing linear algebra operations (calculating distances between vectors). Finally, we transform the values of the dataframe into a scipy sparse matrix for more efficient calculations."
      ]
    },
    {
      "cell_type": "code",
      "metadata": {
        "id": "pKPIt9haHAIp",
        "colab_type": "code",
        "colab": {
          "base_uri": "https://localhost:8080/",
          "height": 419
        },
        "outputId": "e35c7372-c6e8-4018-b82e-833149a9c1ef"
      },
      "source": [
        "df_ratings_drop_users"
      ],
      "execution_count": null,
      "outputs": [
        {
          "output_type": "execute_result",
          "data": {
            "text/html": [
              "<div>\n",
              "<style scoped>\n",
              "    .dataframe tbody tr th:only-of-type {\n",
              "        vertical-align: middle;\n",
              "    }\n",
              "\n",
              "    .dataframe tbody tr th {\n",
              "        vertical-align: top;\n",
              "    }\n",
              "\n",
              "    .dataframe thead th {\n",
              "        text-align: right;\n",
              "    }\n",
              "</style>\n",
              "<table border=\"1\" class=\"dataframe\">\n",
              "  <thead>\n",
              "    <tr style=\"text-align: right;\">\n",
              "      <th></th>\n",
              "      <th>userId</th>\n",
              "      <th>movieId</th>\n",
              "      <th>rating</th>\n",
              "    </tr>\n",
              "  </thead>\n",
              "  <tbody>\n",
              "    <tr>\n",
              "      <th>42</th>\n",
              "      <td>4</td>\n",
              "      <td>1</td>\n",
              "      <td>4.0</td>\n",
              "    </tr>\n",
              "    <tr>\n",
              "      <th>43</th>\n",
              "      <td>4</td>\n",
              "      <td>2</td>\n",
              "      <td>4.0</td>\n",
              "    </tr>\n",
              "    <tr>\n",
              "      <th>44</th>\n",
              "      <td>4</td>\n",
              "      <td>5</td>\n",
              "      <td>2.0</td>\n",
              "    </tr>\n",
              "    <tr>\n",
              "      <th>45</th>\n",
              "      <td>4</td>\n",
              "      <td>6</td>\n",
              "      <td>4.5</td>\n",
              "    </tr>\n",
              "    <tr>\n",
              "      <th>46</th>\n",
              "      <td>4</td>\n",
              "      <td>10</td>\n",
              "      <td>4.0</td>\n",
              "    </tr>\n",
              "    <tr>\n",
              "      <th>...</th>\n",
              "      <td>...</td>\n",
              "      <td>...</td>\n",
              "      <td>...</td>\n",
              "    </tr>\n",
              "    <tr>\n",
              "      <th>27753439</th>\n",
              "      <td>283228</td>\n",
              "      <td>8542</td>\n",
              "      <td>4.5</td>\n",
              "    </tr>\n",
              "    <tr>\n",
              "      <th>27753440</th>\n",
              "      <td>283228</td>\n",
              "      <td>8712</td>\n",
              "      <td>4.5</td>\n",
              "    </tr>\n",
              "    <tr>\n",
              "      <th>27753441</th>\n",
              "      <td>283228</td>\n",
              "      <td>34405</td>\n",
              "      <td>4.5</td>\n",
              "    </tr>\n",
              "    <tr>\n",
              "      <th>27753442</th>\n",
              "      <td>283228</td>\n",
              "      <td>44761</td>\n",
              "      <td>4.5</td>\n",
              "    </tr>\n",
              "    <tr>\n",
              "      <th>27753443</th>\n",
              "      <td>283228</td>\n",
              "      <td>54286</td>\n",
              "      <td>4.5</td>\n",
              "    </tr>\n",
              "  </tbody>\n",
              "</table>\n",
              "<p>24178982 rows × 3 columns</p>\n",
              "</div>"
            ],
            "text/plain": [
              "          userId  movieId  rating\n",
              "42             4        1     4.0\n",
              "43             4        2     4.0\n",
              "44             4        5     2.0\n",
              "45             4        6     4.5\n",
              "46             4       10     4.0\n",
              "...          ...      ...     ...\n",
              "27753439  283228     8542     4.5\n",
              "27753440  283228     8712     4.5\n",
              "27753441  283228    34405     4.5\n",
              "27753442  283228    44761     4.5\n",
              "27753443  283228    54286     4.5\n",
              "\n",
              "[24178982 rows x 3 columns]"
            ]
          },
          "metadata": {
            "tags": []
          },
          "execution_count": 29
        }
      ]
    },
    {
      "cell_type": "markdown",
      "metadata": {
        "id": "hX4eRB51HBX7",
        "colab_type": "text"
      },
      "source": [
        "!!! Atention: crash sytem , not enough RAM\n",
        "\n",
        "There are 283228 unique users and 53889 unique movies in this data set"
      ]
    },
    {
      "cell_type": "code",
      "metadata": {
        "id": "etgX0dFDEmxd",
        "colab_type": "code",
        "colab": {}
      },
      "source": [
        "# pivot and create movie-user matrix\n",
        "movie_user_mat = df_ratings_drop_users.pivot(index='movieId', columns='userId',\n",
        "                                             values='rating').fillna(0)"
      ],
      "execution_count": null,
      "outputs": []
    },
    {
      "cell_type": "code",
      "metadata": {
        "id": "xcSM-Be4Kkmi",
        "colab_type": "code",
        "colab": {}
      },
      "source": [
        "# create mapper from movie title to index\n",
        "movie_to_idx = {\n",
        "    movie: i for i, movie in \n",
        "    enumerate(list(df_movies.set_index('movieId').loc[movie_user_mat.index].title))\n",
        "}"
      ],
      "execution_count": null,
      "outputs": []
    },
    {
      "cell_type": "code",
      "metadata": {
        "id": "VBGMfRLsKi0L",
        "colab_type": "code",
        "colab": {}
      },
      "source": [
        "# transform matrix to scipy sparse matrix\n",
        "movie_user_mat_sparse = csr_matrix(movie_user_mat.values)"
      ],
      "execution_count": null,
      "outputs": []
    },
    {
      "cell_type": "markdown",
      "metadata": {
        "id": "fo46Tpy-Emxg",
        "colab_type": "text"
      },
      "source": [
        "#### 2. Fitting the Model\n",
        "Time to implement the model. We'll initialize the NearestNeighbors class as model_knn and fit our sparse matrix to the instance. By specifying the metric = cosine, the model will measure similarity bectween artist vectors by using cosine similarity."
      ]
    },
    {
      "cell_type": "code",
      "metadata": {
        "id": "7TfZj3epEmxg",
        "colab_type": "code",
        "colab": {},
        "outputId": "65d70a03-be39-4d88-a4a7-a8e9d6ed5ff5"
      },
      "source": [
        "%env JOBLIB_TEMP_FOLDER=/tmp\n",
        "# define model\n",
        "model_knn = NearestNeighbors(metric='cosine', algorithm='brute', n_neighbors=20, n_jobs=-1)\n",
        "# fit\n",
        "model_knn.fit(movie_user_mat_sparse)"
      ],
      "execution_count": null,
      "outputs": [
        {
          "output_type": "stream",
          "text": [
            "env: JOBLIB_TEMP_FOLDER=/tmp\n"
          ],
          "name": "stdout"
        },
        {
          "output_type": "execute_result",
          "data": {
            "text/plain": [
              "NearestNeighbors(algorithm='brute', leaf_size=30, metric='cosine',\n",
              "         metric_params=None, n_jobs=-1, n_neighbors=20, p=2, radius=1.0)"
            ]
          },
          "metadata": {
            "tags": []
          },
          "execution_count": 25
        }
      ]
    },
    {
      "cell_type": "markdown",
      "metadata": {
        "id": "8I9-cgiNEmxi",
        "colab_type": "text"
      },
      "source": [
        "## 4. Use this trained model to make movie recommendations to myself\n",
        "And we're finally ready to make some recommendations!"
      ]
    },
    {
      "cell_type": "code",
      "metadata": {
        "id": "_J1ZSQuhEmxi",
        "colab_type": "code",
        "colab": {}
      },
      "source": [
        "def fuzzy_matching(mapper, fav_movie, verbose=True):\n",
        "    \"\"\"\n",
        "    return the closest match via fuzzy ratio. If no match found, return None\n",
        "    \n",
        "    Parameters\n",
        "    ----------    \n",
        "    mapper: dict, map movie title name to index of the movie in data\n",
        "\n",
        "    fav_movie: str, name of user input movie\n",
        "    \n",
        "    verbose: bool, print log if True\n",
        "\n",
        "    Return\n",
        "    ------\n",
        "    index of the closest match\n",
        "    \"\"\"\n",
        "    match_tuple = []\n",
        "    # get match\n",
        "    for title, idx in mapper.items():\n",
        "        ratio = fuzz.ratio(title.lower(), fav_movie.lower())\n",
        "        if ratio >= 60:\n",
        "            match_tuple.append((title, idx, ratio))\n",
        "    # sort\n",
        "    match_tuple = sorted(match_tuple, key=lambda x: x[2])[::-1]\n",
        "    if not match_tuple:\n",
        "        print('Oops! No match is found')\n",
        "        return\n",
        "    if verbose:\n",
        "        print('Found possible matches in our database: {0}\\n'.format([x[0] for x in match_tuple]))\n",
        "    return match_tuple[0][1]\n",
        "\n",
        "\n",
        "\n",
        "def make_recommendation(model_knn, data, mapper, fav_movie, n_recommendations):\n",
        "    \"\"\"\n",
        "    return top n similar movie recommendations based on user's input movie\n",
        "\n",
        "\n",
        "    Parameters\n",
        "    ----------\n",
        "    model_knn: sklearn model, knn model\n",
        "\n",
        "    data: movie-user matrix\n",
        "\n",
        "    mapper: dict, map movie title name to index of the movie in data\n",
        "\n",
        "    fav_movie: str, name of user input movie\n",
        "\n",
        "    n_recommendations: int, top n recommendations\n",
        "\n",
        "    Return\n",
        "    ------\n",
        "    list of top n similar movie recommendations\n",
        "    \"\"\"\n",
        "    # fit\n",
        "    model_knn.fit(data)\n",
        "    # get input movie index\n",
        "    print('You have input movie:', fav_movie)\n",
        "    idx = fuzzy_matching(mapper, fav_movie, verbose=True)\n",
        "    # inference\n",
        "    print('Recommendation system start to make inference')\n",
        "    print('......\\n')\n",
        "    distances, indices = model_knn.kneighbors(data[idx], n_neighbors=n_recommendations+1)\n",
        "    # get list of raw idx of recommendations\n",
        "    raw_recommends = \\\n",
        "        sorted(list(zip(indices.squeeze().tolist(), distances.squeeze().tolist())), key=lambda x: x[1])[:0:-1]\n",
        "    # get reverse mapper\n",
        "    reverse_mapper = {v: k for k, v in mapper.items()}\n",
        "    # print recommendations\n",
        "    print('Recommendations for {}:'.format(fav_movie))\n",
        "    for i, (idx, dist) in enumerate(raw_recommends):\n",
        "        print('{0}: {1}, with distance of {2}'.format(i+1, reverse_mapper[idx], dist))"
      ],
      "execution_count": null,
      "outputs": []
    },
    {
      "cell_type": "code",
      "metadata": {
        "id": "YIkQHD9mEmxk",
        "colab_type": "code",
        "colab": {},
        "outputId": "67314138-4675-49b2-ed9e-2b804507e1ad"
      },
      "source": [
        "my_favorite = 'Iron Man'\n",
        "\n",
        "make_recommendation(\n",
        "    model_knn=model_knn,\n",
        "    data=movie_user_mat_sparse,\n",
        "    fav_movie=my_favorite,\n",
        "    mapper=movie_to_idx,\n",
        "    n_recommendations=10)"
      ],
      "execution_count": null,
      "outputs": [
        {
          "output_type": "stream",
          "text": [
            "You have input movie: Iron Man\n",
            "Found possible matches in our database: ['Iron Man (2008)', 'Iron Man 3 (2013)', 'Iron Man 2 (2010)']\n",
            "\n",
            "Recommendation system start to make inference\n",
            "......\n",
            "\n",
            "Recommendations for Iron Man:\n",
            "1: Bourne Ultimatum, The (2007), with distance of 0.4217848777770996\n",
            "2: Sherlock Holmes (2009), with distance of 0.4190899133682251\n",
            "3: Inception (2010), with distance of 0.39293038845062256\n",
            "4: Avatar (2009), with distance of 0.38322633504867554\n",
            "5: WALL·E (2008), with distance of 0.38314002752304077\n",
            "6: Star Trek (2009), with distance of 0.37503182888031006\n",
            "7: Batman Begins (2005), with distance of 0.3701704144477844\n",
            "8: Iron Man 2 (2010), with distance of 0.37011009454727173\n",
            "9: Avengers, The (2012), with distance of 0.3579972982406616\n",
            "10: Dark Knight, The (2008), with distance of 0.3010351061820984\n"
          ],
          "name": "stdout"
        }
      ]
    },
    {
      "cell_type": "markdown",
      "metadata": {
        "id": "ViVn7dDIEmxn",
        "colab_type": "text"
      },
      "source": [
        "This is very interesting that my **KNN** model recommends movies that were also produced in very similar years. However, the cosine distance of all those recommendations are actually quite small. This is probabily because there is too many zero values in our movie-user matrix. With too many zero values in our data, the data sparsity becomes a real issue for **KNN** model and the distance in **KNN** model starts to fall apart. So I'd like to dig deeper and look closer inside our data."
      ]
    },
    {
      "cell_type": "markdown",
      "metadata": {
        "id": "luMeHSIpEmxn",
        "colab_type": "text"
      },
      "source": [
        "#### (extra inspection) \n",
        "Let's now look at how sparse the movie-user matrix is by calculating percentage of zero values in the data."
      ]
    },
    {
      "cell_type": "code",
      "metadata": {
        "id": "DkWSuEwTEmxn",
        "colab_type": "code",
        "colab": {},
        "outputId": "ce6e9ee2-62bb-4072-babf-2621f1610fcc"
      },
      "source": [
        "# calcuate total number of entries in the movie-user matrix\n",
        "num_entries = movie_user_mat.shape[0] * movie_user_mat.shape[1]\n",
        "# calculate total number of entries with zero values\n",
        "num_zeros = (movie_user_mat==0).sum(axis=1).sum()\n",
        "# calculate ratio of number of zeros to number of entries\n",
        "ratio_zeros = num_zeros / num_entries\n",
        "print('There is about {:.2%} of ratings in our data is missing'.format(ratio_zeros))"
      ],
      "execution_count": null,
      "outputs": [
        {
          "output_type": "stream",
          "text": [
            "There is about 98.35% of ratings in our data is missing\n"
          ],
          "name": "stdout"
        }
      ]
    },
    {
      "cell_type": "markdown",
      "metadata": {
        "id": "g1-Zz2jjEmxq",
        "colab_type": "text"
      },
      "source": [
        "This result confirms my hypothesis. The vast majority of entries in our data is zero. This explains why the distance between similar items or opposite items are both pretty large."
      ]
    },
    {
      "cell_type": "markdown",
      "metadata": {
        "id": "dhXYWhCsEmxq",
        "colab_type": "text"
      },
      "source": [
        "## 5. Deep dive into the bottleneck of item-based collaborative filtering.\n",
        " - cold start problem\n",
        " - data sparsity problem\n",
        " - popular bias (how to recommend products from the tail of product distribution)\n",
        " - scalability bottleneck"
      ]
    },
    {
      "cell_type": "markdown",
      "metadata": {
        "id": "WeIaS2wcEmxr",
        "colab_type": "text"
      },
      "source": [
        "We saw there is 98.35% of user-movie interactions are not yet recorded, even after I filtered out less-known movies and inactive users. Apparently, we don't even have sufficient information for the system to make reliable inferences for users or items. This is called **Cold Start** problem in recommender system.\n",
        "\n",
        "There are three cases of cold start:\n",
        "\n",
        "1. New community: refers to the start-up of the recommender, when, although a catalogue of items might exist, almost no users are present and the lack of user interaction makes very hard to provide reliable recommendations\n",
        "2. New item: a new item is added to the system, it might have some content information but no interactions are present\n",
        "3. New user: a new user registers and has not provided any interaction yet, therefore it is not possible to provide personalized recommendations\n",
        "\n",
        "We are not concerned with the last one because we can use item-based filtering to make recommendations for new user. In our case, we are more concerned with the first two cases, especially the second case.\n",
        "\n",
        "The item cold-start problem refers to when items added to the catalogue have either none or very little interactions. This constitutes a problem mainly for collaborative filtering algorithms due to the fact that they rely on the item's interactions to make recommendations. If no interactions are available then a pure collaborative algorithm cannot recommend the item. In case only a few interactions are available, although a collaborative algorithm will be able to recommend it, the quality of those recommendations will be poor. This arises another issue, which is not anymore related to new items, but rather to unpopular items. In some cases (e.g. movie recommendations) it might happen that a handful of items receive an extremely high number of iteractions, while most of the items only receive a fraction of them. This is also referred to as popularity bias. Please recall previous long-tail skewed distribution of movie rating frequency plot.\n",
        "\n",
        "In addtition to that, scalability is also a big issue in KNN model too. Its time complexity is O(nd + kn), where n is the cardinality of the training set and d the dimension of each sample. And KNN takes more time in making inference than training, which increase the prediction latency"
      ]
    },
    {
      "cell_type": "markdown",
      "metadata": {
        "id": "8P8lScF9Emxr",
        "colab_type": "text"
      },
      "source": [
        "## 6. Further study\n",
        "\n",
        "Use spark's ALS to solve above problems"
      ]
    },
    {
      "cell_type": "markdown",
      "metadata": {
        "id": "61ol8-01nWOJ",
        "colab_type": "text"
      },
      "source": [
        "# DNN way (Modin RAY)"
      ]
    },
    {
      "cell_type": "code",
      "metadata": {
        "id": "nH29TvPXnebV",
        "colab_type": "code",
        "colab": {}
      },
      "source": [
        "!pip install modin[all] # Install all of the above"
      ],
      "execution_count": null,
      "outputs": []
    },
    {
      "cell_type": "code",
      "metadata": {
        "id": "8Eut8Ijmnrry",
        "colab_type": "code",
        "colab": {
          "base_uri": "https://localhost:8080/",
          "height": 105
        },
        "outputId": "39cec6c6-d1cc-4698-9f56-0ba2dc090aa4"
      },
      "source": [
        "!pip install fuzzywuzzy"
      ],
      "execution_count": null,
      "outputs": [
        {
          "output_type": "stream",
          "text": [
            "Collecting fuzzywuzzy\n",
            "  Downloading https://files.pythonhosted.org/packages/43/ff/74f23998ad2f93b945c0309f825be92e04e0348e062026998b5eefef4c33/fuzzywuzzy-0.18.0-py2.py3-none-any.whl\n",
            "Installing collected packages: fuzzywuzzy\n",
            "Successfully installed fuzzywuzzy-0.18.0\n"
          ],
          "name": "stdout"
        }
      ]
    },
    {
      "cell_type": "code",
      "metadata": {
        "id": "QwobarDynnDB",
        "colab_type": "code",
        "colab": {
          "base_uri": "https://localhost:8080/",
          "height": 71
        },
        "outputId": "6506ccb4-7118-485f-c313-e43672cae08b"
      },
      "source": [
        "import time\n",
        "\n",
        "# data science imports\n",
        "import os\n",
        "os.environ[\"MODIN_ENGINE\"] = \"ray\"  # Modin will use Dask\n",
        "import modin.pandas as pd\n",
        "import math\n",
        "import numpy as np\n",
        "#import pandas as pd\n",
        "from scipy.sparse import csr_matrix\n",
        "from sklearn.neighbors import NearestNeighbors\n",
        "\n",
        "# utils import\n",
        "from fuzzywuzzy import fuzz\n",
        "\n",
        "# visualization imports\n",
        "import seaborn as sns\n",
        "import matplotlib.pyplot as plt\n",
        "plt.style.use('ggplot')\n",
        "\n",
        "%matplotlib inline"
      ],
      "execution_count": 30,
      "outputs": [
        {
          "output_type": "stream",
          "text": [
            "UserWarning: Using slow pure-python SequenceMatcher. Install python-Levenshtein to remove this warning\n",
            "FutureWarning: pandas.util.testing is deprecated. Use the functions in the public API at pandas.testing instead.\n"
          ],
          "name": "stderr"
        }
      ]
    },
    {
      "cell_type": "code",
      "metadata": {
        "id": "biZ-k2eWnYro",
        "colab_type": "code",
        "colab": {
          "base_uri": "https://localhost:8080/",
          "height": 204
        },
        "outputId": "bad289cb-63d9-421d-aa52-6ccb30ac647a"
      },
      "source": [
        "!wget http://files.grouplens.org/datasets/movielens/ml-latest.zip\n",
        "from zipfile import ZipFile\n",
        "with ZipFile('ml-latest.zip', 'r') as zipObj:\n",
        "   # Extract all the contents of zip file in current directory\n",
        "   zipObj.extractall()"
      ],
      "execution_count": null,
      "outputs": [
        {
          "output_type": "stream",
          "text": [
            "--2020-09-02 07:01:58--  http://files.grouplens.org/datasets/movielens/ml-latest.zip\n",
            "Resolving files.grouplens.org (files.grouplens.org)... 128.101.65.152\n",
            "Connecting to files.grouplens.org (files.grouplens.org)|128.101.65.152|:80... connected.\n",
            "HTTP request sent, awaiting response... 200 OK\n",
            "Length: 277113433 (264M) [application/zip]\n",
            "Saving to: ‘ml-latest.zip’\n",
            "\n",
            "ml-latest.zip       100%[===================>] 264.28M   119MB/s    in 2.2s    \n",
            "\n",
            "2020-09-02 07:02:00 (119 MB/s) - ‘ml-latest.zip’ saved [277113433/277113433]\n",
            "\n"
          ],
          "name": "stdout"
        }
      ]
    },
    {
      "cell_type": "code",
      "metadata": {
        "id": "MR2Dic6-ncyt",
        "colab_type": "code",
        "colab": {}
      },
      "source": [
        "# path config\n",
        "#data_path = os.path.join(os.environ['DATA_PATH'], 'MovieLens')\n",
        "movies_filename = '/content/ml-latest/movies.csv'\n",
        "ratings_filename = '/content/ml-latest/ratings.csv'"
      ],
      "execution_count": 31,
      "outputs": []
    },
    {
      "cell_type": "code",
      "metadata": {
        "id": "hK_X89p9n3So",
        "colab_type": "code",
        "colab": {}
      },
      "source": [
        "df_movies = pd.read_csv(\n",
        "    movies_filename,\n",
        "    usecols=['movieId', 'title'],\n",
        "    dtype={'movieId': 'int32', 'title': 'str'})\n",
        "\n",
        "df_ratings = pd.read_csv(\n",
        "    ratings_filename,\n",
        "    usecols=['userId', 'movieId', 'rating'],\n",
        "    dtype={'userId': 'int32', 'movieId': 'int32', 'rating': 'float32'})"
      ],
      "execution_count": 32,
      "outputs": []
    },
    {
      "cell_type": "code",
      "metadata": {
        "id": "ysJ2URQen7Eq",
        "colab_type": "code",
        "colab": {
          "base_uri": "https://localhost:8080/",
          "height": 187
        },
        "outputId": "2df98ecc-3209-4655-f60f-354b352e0749"
      },
      "source": [
        "df_movies.info()"
      ],
      "execution_count": 34,
      "outputs": [
        {
          "output_type": "stream",
          "text": [
            "<class 'modin.pandas.dataframe.DataFrame'>\n",
            "RangeIndex: 58098 entries, 0 to 58097\n",
            "Data columns (total 2 columns):\n",
            " #   Column   Non-Null Count  Dtype \n",
            "---  -------  --------------  ----- \n",
            " 0   movieId  58098 non-null  int32\n",
            " 1   title    58098 non-null  object\n",
            "dtypes: int32(1), object(1)\n",
            "memory usage: 681.0 KB\n"
          ],
          "name": "stdout"
        },
        {
          "output_type": "stream",
          "text": [
            "UserWarning: Distributing <class 'int'> object. This may take some time.\n"
          ],
          "name": "stderr"
        }
      ]
    },
    {
      "cell_type": "code",
      "metadata": {
        "id": "83B8fhugn9Uo",
        "colab_type": "code",
        "colab": {
          "base_uri": "https://localhost:8080/",
          "height": 204
        },
        "outputId": "bdf96372-db3c-417d-acfb-c95d96467a84"
      },
      "source": [
        "df_ratings.info()"
      ],
      "execution_count": 35,
      "outputs": [
        {
          "output_type": "stream",
          "text": [
            "UserWarning: Distributing <class 'int'> object. This may take some time.\n"
          ],
          "name": "stderr"
        },
        {
          "output_type": "stream",
          "text": [
            "<class 'modin.pandas.dataframe.DataFrame'>\n",
            "RangeIndex: 27753444 entries, 0 to 27753443\n",
            "Data columns (total 3 columns):\n",
            " #   Column   Non-Null Count     Dtype  \n",
            "---  -------  -----------------  -----  \n",
            " 0   userId   27753444 non-null  int32\n",
            " 1   movieId  27753444 non-null  int32\n",
            " 2   rating   27753444 non-null  float32\n",
            "dtypes: int32(2), float32(1)\n",
            "memory usage: 317.6 MB\n"
          ],
          "name": "stdout"
        }
      ]
    },
    {
      "cell_type": "code",
      "metadata": {
        "id": "aU-tqNhpn-gp",
        "colab_type": "code",
        "colab": {
          "base_uri": "https://localhost:8080/",
          "height": 204
        },
        "outputId": "cc1f2a07-1ed6-4fe3-b38c-7785e39cab0c"
      },
      "source": [
        "df_movies.head()"
      ],
      "execution_count": 36,
      "outputs": [
        {
          "output_type": "execute_result",
          "data": {
            "text/html": [
              "<div>\n",
              "<style scoped>\n",
              "    .dataframe tbody tr th:only-of-type {\n",
              "        vertical-align: middle;\n",
              "    }\n",
              "\n",
              "    .dataframe tbody tr th {\n",
              "        vertical-align: top;\n",
              "    }\n",
              "\n",
              "    .dataframe thead th {\n",
              "        text-align: right;\n",
              "    }\n",
              "</style>\n",
              "<table border=\"1\" class=\"dataframe\">\n",
              "  <thead>\n",
              "    <tr style=\"text-align: right;\">\n",
              "      <th></th>\n",
              "      <th>movieId</th>\n",
              "      <th>title</th>\n",
              "    </tr>\n",
              "  </thead>\n",
              "  <tbody>\n",
              "    <tr>\n",
              "      <th>0</th>\n",
              "      <td>1</td>\n",
              "      <td>Toy Story (1995)</td>\n",
              "    </tr>\n",
              "    <tr>\n",
              "      <th>1</th>\n",
              "      <td>2</td>\n",
              "      <td>Jumanji (1995)</td>\n",
              "    </tr>\n",
              "    <tr>\n",
              "      <th>2</th>\n",
              "      <td>3</td>\n",
              "      <td>Grumpier Old Men (1995)</td>\n",
              "    </tr>\n",
              "    <tr>\n",
              "      <th>3</th>\n",
              "      <td>4</td>\n",
              "      <td>Waiting to Exhale (1995)</td>\n",
              "    </tr>\n",
              "    <tr>\n",
              "      <th>4</th>\n",
              "      <td>5</td>\n",
              "      <td>Father of the Bride Part II (1995)</td>\n",
              "    </tr>\n",
              "  </tbody>\n",
              "</table>\n",
              "</div>"
            ],
            "text/plain": [
              "   movieId                               title\n",
              "0        1                    Toy Story (1995)\n",
              "1        2                      Jumanji (1995)\n",
              "2        3             Grumpier Old Men (1995)\n",
              "3        4            Waiting to Exhale (1995)\n",
              "4        5  Father of the Bride Part II (1995)"
            ]
          },
          "metadata": {
            "tags": []
          },
          "execution_count": 36
        }
      ]
    },
    {
      "cell_type": "code",
      "metadata": {
        "id": "YatRSZ_goCrc",
        "colab_type": "code",
        "colab": {
          "base_uri": "https://localhost:8080/",
          "height": 204
        },
        "outputId": "fae59521-5786-4a1e-eefe-3f2c023cccae"
      },
      "source": [
        "df_ratings.head()"
      ],
      "execution_count": 37,
      "outputs": [
        {
          "output_type": "execute_result",
          "data": {
            "text/html": [
              "<div>\n",
              "<style scoped>\n",
              "    .dataframe tbody tr th:only-of-type {\n",
              "        vertical-align: middle;\n",
              "    }\n",
              "\n",
              "    .dataframe tbody tr th {\n",
              "        vertical-align: top;\n",
              "    }\n",
              "\n",
              "    .dataframe thead th {\n",
              "        text-align: right;\n",
              "    }\n",
              "</style>\n",
              "<table border=\"1\" class=\"dataframe\">\n",
              "  <thead>\n",
              "    <tr style=\"text-align: right;\">\n",
              "      <th></th>\n",
              "      <th>userId</th>\n",
              "      <th>movieId</th>\n",
              "      <th>rating</th>\n",
              "    </tr>\n",
              "  </thead>\n",
              "  <tbody>\n",
              "    <tr>\n",
              "      <th>0</th>\n",
              "      <td>1</td>\n",
              "      <td>307</td>\n",
              "      <td>3.5</td>\n",
              "    </tr>\n",
              "    <tr>\n",
              "      <th>1</th>\n",
              "      <td>1</td>\n",
              "      <td>481</td>\n",
              "      <td>3.5</td>\n",
              "    </tr>\n",
              "    <tr>\n",
              "      <th>2</th>\n",
              "      <td>1</td>\n",
              "      <td>1091</td>\n",
              "      <td>1.5</td>\n",
              "    </tr>\n",
              "    <tr>\n",
              "      <th>3</th>\n",
              "      <td>1</td>\n",
              "      <td>1257</td>\n",
              "      <td>4.5</td>\n",
              "    </tr>\n",
              "    <tr>\n",
              "      <th>4</th>\n",
              "      <td>1</td>\n",
              "      <td>1449</td>\n",
              "      <td>4.5</td>\n",
              "    </tr>\n",
              "  </tbody>\n",
              "</table>\n",
              "</div>"
            ],
            "text/plain": [
              "   userId  movieId  rating\n",
              "0       1      307     3.5\n",
              "1       1      481     3.5\n",
              "2       1     1091     1.5\n",
              "3       1     1257     4.5\n",
              "4       1     1449     4.5"
            ]
          },
          "metadata": {
            "tags": []
          },
          "execution_count": 37
        }
      ]
    },
    {
      "cell_type": "code",
      "metadata": {
        "id": "YMvaDciuoDUa",
        "colab_type": "code",
        "colab": {
          "base_uri": "https://localhost:8080/",
          "height": 34
        },
        "outputId": "bd0577a1-9ddb-46ba-b984-c0068c30b02f"
      },
      "source": [
        "num_users = len(df_ratings.userId.unique())\n",
        "num_items = len(df_ratings.movieId.unique())\n",
        "print('There are {} unique users and {} unique movies in this data set'.format(num_users, num_items))"
      ],
      "execution_count": 38,
      "outputs": [
        {
          "output_type": "stream",
          "text": [
            "There are 283228 unique users and 53889 unique movies in this data set\n"
          ],
          "name": "stdout"
        }
      ]
    },
    {
      "cell_type": "code",
      "metadata": {
        "id": "4tVASpnloENt",
        "colab_type": "code",
        "colab": {}
      },
      "source": [
        "df_ratings_drop_movies=df_ratings\n",
        "df_ratings_drop_users = df_ratings_drop_movies"
      ],
      "execution_count": 40,
      "outputs": []
    },
    {
      "cell_type": "code",
      "metadata": {
        "id": "7zdYtBfuoQvL",
        "colab_type": "code",
        "colab": {
          "base_uri": "https://localhost:8080/",
          "height": 129
        },
        "outputId": "cf6c93d6-c876-49cf-c1e2-cc5abf672f22"
      },
      "source": [
        "# get number of ratings given by every user\n",
        "#df_users_cnt = pd.DataFrame(df_ratings_drop_movies.groupby('userId').size(), \n",
        "                            columns=['count'])\n",
        "#df_users_cnt.head()"
      ],
      "execution_count": 33,
      "outputs": [
        {
          "output_type": "error",
          "ename": "IndentationError",
          "evalue": "ignored",
          "traceback": [
            "\u001b[0;36m  File \u001b[0;32m\"<ipython-input-33-15080b884148>\"\u001b[0;36m, line \u001b[0;32m3\u001b[0m\n\u001b[0;31m    columns=['count'])\u001b[0m\n\u001b[0m    ^\u001b[0m\n\u001b[0;31mIndentationError\u001b[0m\u001b[0;31m:\u001b[0m unexpected indent\n"
          ]
        }
      ]
    },
    {
      "cell_type": "code",
      "metadata": {
        "id": "8pfT9QC5oY4c",
        "colab_type": "code",
        "colab": {
          "base_uri": "https://localhost:8080/",
          "height": 419
        },
        "outputId": "ec60a2da-5418-4b51-9f02-2bd2da5f4b0e"
      },
      "source": [
        "df_ratings_drop_users"
      ],
      "execution_count": 41,
      "outputs": [
        {
          "output_type": "execute_result",
          "data": {
            "text/html": [
              "<div>\n",
              "<style scoped>\n",
              "    .dataframe tbody tr th:only-of-type {\n",
              "        vertical-align: middle;\n",
              "    }\n",
              "\n",
              "    .dataframe tbody tr th {\n",
              "        vertical-align: top;\n",
              "    }\n",
              "\n",
              "    .dataframe thead th {\n",
              "        text-align: right;\n",
              "    }\n",
              "</style>\n",
              "<table border=\"1\" class=\"dataframe\">\n",
              "  <thead>\n",
              "    <tr style=\"text-align: right;\">\n",
              "      <th></th>\n",
              "      <th>userId</th>\n",
              "      <th>movieId</th>\n",
              "      <th>rating</th>\n",
              "    </tr>\n",
              "  </thead>\n",
              "  <tbody>\n",
              "    <tr>\n",
              "      <th>0</th>\n",
              "      <td>1</td>\n",
              "      <td>307</td>\n",
              "      <td>3.5</td>\n",
              "    </tr>\n",
              "    <tr>\n",
              "      <th>1</th>\n",
              "      <td>1</td>\n",
              "      <td>481</td>\n",
              "      <td>3.5</td>\n",
              "    </tr>\n",
              "    <tr>\n",
              "      <th>2</th>\n",
              "      <td>1</td>\n",
              "      <td>1091</td>\n",
              "      <td>1.5</td>\n",
              "    </tr>\n",
              "    <tr>\n",
              "      <th>3</th>\n",
              "      <td>1</td>\n",
              "      <td>1257</td>\n",
              "      <td>4.5</td>\n",
              "    </tr>\n",
              "    <tr>\n",
              "      <th>4</th>\n",
              "      <td>1</td>\n",
              "      <td>1449</td>\n",
              "      <td>4.5</td>\n",
              "    </tr>\n",
              "    <tr>\n",
              "      <th>...</th>\n",
              "      <td>...</td>\n",
              "      <td>...</td>\n",
              "      <td>...</td>\n",
              "    </tr>\n",
              "    <tr>\n",
              "      <th>27753439</th>\n",
              "      <td>283228</td>\n",
              "      <td>8542</td>\n",
              "      <td>4.5</td>\n",
              "    </tr>\n",
              "    <tr>\n",
              "      <th>27753440</th>\n",
              "      <td>283228</td>\n",
              "      <td>8712</td>\n",
              "      <td>4.5</td>\n",
              "    </tr>\n",
              "    <tr>\n",
              "      <th>27753441</th>\n",
              "      <td>283228</td>\n",
              "      <td>34405</td>\n",
              "      <td>4.5</td>\n",
              "    </tr>\n",
              "    <tr>\n",
              "      <th>27753442</th>\n",
              "      <td>283228</td>\n",
              "      <td>44761</td>\n",
              "      <td>4.5</td>\n",
              "    </tr>\n",
              "    <tr>\n",
              "      <th>27753443</th>\n",
              "      <td>283228</td>\n",
              "      <td>54286</td>\n",
              "      <td>4.5</td>\n",
              "    </tr>\n",
              "  </tbody>\n",
              "</table>\n",
              "<p>27753444 rows x 3 columns</p>\n",
              "</div>"
            ],
            "text/plain": [
              "          userId  movieId  rating\n",
              "0              1      307     3.5\n",
              "1              1      481     3.5\n",
              "2              1     1091     1.5\n",
              "3              1     1257     4.5\n",
              "4              1     1449     4.5\n",
              "...          ...      ...     ...\n",
              "27753439  283228     8542     4.5\n",
              "27753440  283228     8712     4.5\n",
              "27753441  283228    34405     4.5\n",
              "27753442  283228    44761     4.5\n",
              "27753443  283228    54286     4.5\n",
              "\n",
              "[27753444 rows x 3 columns]"
            ]
          },
          "metadata": {
            "tags": []
          },
          "execution_count": 41
        }
      ]
    },
    {
      "cell_type": "code",
      "metadata": {
        "id": "EB-ZpnuZpSUB",
        "colab_type": "code",
        "colab": {
          "base_uri": "https://localhost:8080/",
          "height": 85
        },
        "outputId": "d5a0b9d2-b873-4122-d9df-5009243f0206"
      },
      "source": [
        "df_ratings_drop_users.dtypes"
      ],
      "execution_count": 42,
      "outputs": [
        {
          "output_type": "execute_result",
          "data": {
            "text/plain": [
              "userId       int32\n",
              "movieId      int32\n",
              "rating     float32\n",
              "dtype: object"
            ]
          },
          "metadata": {
            "tags": []
          },
          "execution_count": 42
        }
      ]
    },
    {
      "cell_type": "code",
      "metadata": {
        "id": "j1B1e5lhpDH4",
        "colab_type": "code",
        "colab": {
          "base_uri": "https://localhost:8080/",
          "height": 34
        },
        "outputId": "c55414c3-1c5f-4911-bcf9-c9d192fc851b"
      },
      "source": [
        "type(df_ratings_drop_users)"
      ],
      "execution_count": 43,
      "outputs": [
        {
          "output_type": "execute_result",
          "data": {
            "text/plain": [
              "modin.pandas.dataframe.DataFrame"
            ]
          },
          "metadata": {
            "tags": []
          },
          "execution_count": 43
        }
      ]
    },
    {
      "cell_type": "code",
      "metadata": {
        "id": "ZJjcNJXFoawb",
        "colab_type": "code",
        "colab": {
          "base_uri": "https://localhost:8080/",
          "height": 391
        },
        "outputId": "1cd90690-9550-4385-e871-44ad37723d55"
      },
      "source": [
        "# pivot and create movie-user matrix\n",
        "movie_user_mat = df_ratings_drop_users.pivot(index='movieId', columns='userId',\n",
        "                                             values='rating')"
      ],
      "execution_count": 44,
      "outputs": [
        {
          "output_type": "stream",
          "text": [
            "UserWarning: `DataFrame.pivot` defaulting to pandas implementation.\n",
            "To request implementation, send an email to feature_requests@modin.org.\n"
          ],
          "name": "stderr"
        },
        {
          "output_type": "error",
          "ename": "ValueError",
          "evalue": "ignored",
          "traceback": [
            "\u001b[0;31m---------------------------------------------------------------------------\u001b[0m",
            "\u001b[0;31mValueError\u001b[0m                                Traceback (most recent call last)",
            "\u001b[0;32m<ipython-input-44-99400f6c9ba5>\u001b[0m in \u001b[0;36m<module>\u001b[0;34m()\u001b[0m\n\u001b[1;32m      1\u001b[0m \u001b[0;31m# pivot and create movie-user matrix\u001b[0m\u001b[0;34m\u001b[0m\u001b[0;34m\u001b[0m\u001b[0;34m\u001b[0m\u001b[0m\n\u001b[1;32m      2\u001b[0m movie_user_mat = df_ratings_drop_users.pivot(index='movieId', columns='userId',\n\u001b[0;32m----> 3\u001b[0;31m                                              values='rating')\n\u001b[0m",
            "\u001b[0;32m/usr/local/lib/python3.6/dist-packages/modin/pandas/dataframe.py\u001b[0m in \u001b[0;36mpivot\u001b[0;34m(self, index, columns, values)\u001b[0m\n\u001b[1;32m   1666\u001b[0m     \u001b[0;32mdef\u001b[0m \u001b[0mpivot\u001b[0m\u001b[0;34m(\u001b[0m\u001b[0mself\u001b[0m\u001b[0;34m,\u001b[0m \u001b[0mindex\u001b[0m\u001b[0;34m=\u001b[0m\u001b[0;32mNone\u001b[0m\u001b[0;34m,\u001b[0m \u001b[0mcolumns\u001b[0m\u001b[0;34m=\u001b[0m\u001b[0;32mNone\u001b[0m\u001b[0;34m,\u001b[0m \u001b[0mvalues\u001b[0m\u001b[0;34m=\u001b[0m\u001b[0;32mNone\u001b[0m\u001b[0;34m)\u001b[0m\u001b[0;34m:\u001b[0m\u001b[0;34m\u001b[0m\u001b[0;34m\u001b[0m\u001b[0m\n\u001b[1;32m   1667\u001b[0m         return self._default_to_pandas(\n\u001b[0;32m-> 1668\u001b[0;31m             \u001b[0mpandas\u001b[0m\u001b[0;34m.\u001b[0m\u001b[0mDataFrame\u001b[0m\u001b[0;34m.\u001b[0m\u001b[0mpivot\u001b[0m\u001b[0;34m,\u001b[0m \u001b[0mindex\u001b[0m\u001b[0;34m=\u001b[0m\u001b[0mindex\u001b[0m\u001b[0;34m,\u001b[0m \u001b[0mcolumns\u001b[0m\u001b[0;34m=\u001b[0m\u001b[0mcolumns\u001b[0m\u001b[0;34m,\u001b[0m \u001b[0mvalues\u001b[0m\u001b[0;34m=\u001b[0m\u001b[0mvalues\u001b[0m\u001b[0;34m\u001b[0m\u001b[0;34m\u001b[0m\u001b[0m\n\u001b[0m\u001b[1;32m   1669\u001b[0m         )\n\u001b[1;32m   1670\u001b[0m \u001b[0;34m\u001b[0m\u001b[0m\n",
            "\u001b[0;32m/usr/local/lib/python3.6/dist-packages/modin/pandas/base.py\u001b[0m in \u001b[0;36m_default_to_pandas\u001b[0;34m(self, op, *args, **kwargs)\u001b[0m\n\u001b[1;32m    249\u001b[0m         \u001b[0mpandas_obj\u001b[0m \u001b[0;34m=\u001b[0m \u001b[0mself\u001b[0m\u001b[0;34m.\u001b[0m\u001b[0m_to_pandas\u001b[0m\u001b[0;34m(\u001b[0m\u001b[0;34m)\u001b[0m\u001b[0;34m\u001b[0m\u001b[0;34m\u001b[0m\u001b[0m\n\u001b[1;32m    250\u001b[0m         \u001b[0;32mif\u001b[0m \u001b[0mcallable\u001b[0m\u001b[0;34m(\u001b[0m\u001b[0mop\u001b[0m\u001b[0;34m)\u001b[0m\u001b[0;34m:\u001b[0m\u001b[0;34m\u001b[0m\u001b[0;34m\u001b[0m\u001b[0m\n\u001b[0;32m--> 251\u001b[0;31m             \u001b[0mresult\u001b[0m \u001b[0;34m=\u001b[0m \u001b[0mop\u001b[0m\u001b[0;34m(\u001b[0m\u001b[0mpandas_obj\u001b[0m\u001b[0;34m,\u001b[0m \u001b[0;34m*\u001b[0m\u001b[0margs\u001b[0m\u001b[0;34m,\u001b[0m \u001b[0;34m**\u001b[0m\u001b[0mkwargs\u001b[0m\u001b[0;34m)\u001b[0m\u001b[0;34m\u001b[0m\u001b[0;34m\u001b[0m\u001b[0m\n\u001b[0m\u001b[1;32m    252\u001b[0m         \u001b[0;32melif\u001b[0m \u001b[0misinstance\u001b[0m\u001b[0;34m(\u001b[0m\u001b[0mop\u001b[0m\u001b[0;34m,\u001b[0m \u001b[0mstr\u001b[0m\u001b[0;34m)\u001b[0m\u001b[0;34m:\u001b[0m\u001b[0;34m\u001b[0m\u001b[0;34m\u001b[0m\u001b[0m\n\u001b[1;32m    253\u001b[0m             \u001b[0;31m# The inner `getattr` is ensuring that we are treating this object (whether\u001b[0m\u001b[0;34m\u001b[0m\u001b[0;34m\u001b[0m\u001b[0;34m\u001b[0m\u001b[0m\n",
            "\u001b[0;32m/usr/local/lib/python3.6/dist-packages/pandas/core/frame.py\u001b[0m in \u001b[0;36mpivot\u001b[0;34m(self, index, columns, values)\u001b[0m\n\u001b[1;32m   5921\u001b[0m         \u001b[0;32mfrom\u001b[0m \u001b[0mpandas\u001b[0m\u001b[0;34m.\u001b[0m\u001b[0mcore\u001b[0m\u001b[0;34m.\u001b[0m\u001b[0mreshape\u001b[0m\u001b[0;34m.\u001b[0m\u001b[0mpivot\u001b[0m \u001b[0;32mimport\u001b[0m \u001b[0mpivot\u001b[0m\u001b[0;34m\u001b[0m\u001b[0;34m\u001b[0m\u001b[0m\n\u001b[1;32m   5922\u001b[0m \u001b[0;34m\u001b[0m\u001b[0m\n\u001b[0;32m-> 5923\u001b[0;31m         \u001b[0;32mreturn\u001b[0m \u001b[0mpivot\u001b[0m\u001b[0;34m(\u001b[0m\u001b[0mself\u001b[0m\u001b[0;34m,\u001b[0m \u001b[0mindex\u001b[0m\u001b[0;34m=\u001b[0m\u001b[0mindex\u001b[0m\u001b[0;34m,\u001b[0m \u001b[0mcolumns\u001b[0m\u001b[0;34m=\u001b[0m\u001b[0mcolumns\u001b[0m\u001b[0;34m,\u001b[0m \u001b[0mvalues\u001b[0m\u001b[0;34m=\u001b[0m\u001b[0mvalues\u001b[0m\u001b[0;34m)\u001b[0m\u001b[0;34m\u001b[0m\u001b[0;34m\u001b[0m\u001b[0m\n\u001b[0m\u001b[1;32m   5924\u001b[0m \u001b[0;34m\u001b[0m\u001b[0m\n\u001b[1;32m   5925\u001b[0m     _shared_docs[\n",
            "\u001b[0;32m/usr/local/lib/python3.6/dist-packages/pandas/core/reshape/pivot.py\u001b[0m in \u001b[0;36mpivot\u001b[0;34m(data, index, columns, values)\u001b[0m\n\u001b[1;32m    448\u001b[0m         \u001b[0;32melse\u001b[0m\u001b[0;34m:\u001b[0m\u001b[0;34m\u001b[0m\u001b[0;34m\u001b[0m\u001b[0m\n\u001b[1;32m    449\u001b[0m             \u001b[0mindexed\u001b[0m \u001b[0;34m=\u001b[0m \u001b[0mdata\u001b[0m\u001b[0;34m.\u001b[0m\u001b[0m_constructor_sliced\u001b[0m\u001b[0;34m(\u001b[0m\u001b[0mdata\u001b[0m\u001b[0;34m[\u001b[0m\u001b[0mvalues\u001b[0m\u001b[0;34m]\u001b[0m\u001b[0;34m.\u001b[0m\u001b[0mvalues\u001b[0m\u001b[0;34m,\u001b[0m \u001b[0mindex\u001b[0m\u001b[0;34m=\u001b[0m\u001b[0mindex\u001b[0m\u001b[0;34m)\u001b[0m\u001b[0;34m\u001b[0m\u001b[0;34m\u001b[0m\u001b[0m\n\u001b[0;32m--> 450\u001b[0;31m     \u001b[0;32mreturn\u001b[0m \u001b[0mindexed\u001b[0m\u001b[0;34m.\u001b[0m\u001b[0munstack\u001b[0m\u001b[0;34m(\u001b[0m\u001b[0mcolumns\u001b[0m\u001b[0;34m)\u001b[0m\u001b[0;34m\u001b[0m\u001b[0;34m\u001b[0m\u001b[0m\n\u001b[0m\u001b[1;32m    451\u001b[0m \u001b[0;34m\u001b[0m\u001b[0m\n\u001b[1;32m    452\u001b[0m \u001b[0;34m\u001b[0m\u001b[0m\n",
            "\u001b[0;32m/usr/local/lib/python3.6/dist-packages/pandas/core/series.py\u001b[0m in \u001b[0;36munstack\u001b[0;34m(self, level, fill_value)\u001b[0m\n\u001b[1;32m   3548\u001b[0m         \u001b[0;32mfrom\u001b[0m \u001b[0mpandas\u001b[0m\u001b[0;34m.\u001b[0m\u001b[0mcore\u001b[0m\u001b[0;34m.\u001b[0m\u001b[0mreshape\u001b[0m\u001b[0;34m.\u001b[0m\u001b[0mreshape\u001b[0m \u001b[0;32mimport\u001b[0m \u001b[0munstack\u001b[0m\u001b[0;34m\u001b[0m\u001b[0;34m\u001b[0m\u001b[0m\n\u001b[1;32m   3549\u001b[0m \u001b[0;34m\u001b[0m\u001b[0m\n\u001b[0;32m-> 3550\u001b[0;31m         \u001b[0;32mreturn\u001b[0m \u001b[0munstack\u001b[0m\u001b[0;34m(\u001b[0m\u001b[0mself\u001b[0m\u001b[0;34m,\u001b[0m \u001b[0mlevel\u001b[0m\u001b[0;34m,\u001b[0m \u001b[0mfill_value\u001b[0m\u001b[0;34m)\u001b[0m\u001b[0;34m\u001b[0m\u001b[0;34m\u001b[0m\u001b[0m\n\u001b[0m\u001b[1;32m   3551\u001b[0m \u001b[0;34m\u001b[0m\u001b[0m\n\u001b[1;32m   3552\u001b[0m     \u001b[0;31m# ----------------------------------------------------------------------\u001b[0m\u001b[0;34m\u001b[0m\u001b[0;34m\u001b[0m\u001b[0;34m\u001b[0m\u001b[0m\n",
            "\u001b[0;32m/usr/local/lib/python3.6/dist-packages/pandas/core/reshape/reshape.py\u001b[0m in \u001b[0;36munstack\u001b[0;34m(obj, level, fill_value)\u001b[0m\n\u001b[1;32m    417\u001b[0m             \u001b[0mlevel\u001b[0m\u001b[0;34m=\u001b[0m\u001b[0mlevel\u001b[0m\u001b[0;34m,\u001b[0m\u001b[0;34m\u001b[0m\u001b[0;34m\u001b[0m\u001b[0m\n\u001b[1;32m    418\u001b[0m             \u001b[0mfill_value\u001b[0m\u001b[0;34m=\u001b[0m\u001b[0mfill_value\u001b[0m\u001b[0;34m,\u001b[0m\u001b[0;34m\u001b[0m\u001b[0;34m\u001b[0m\u001b[0m\n\u001b[0;32m--> 419\u001b[0;31m             \u001b[0mconstructor\u001b[0m\u001b[0;34m=\u001b[0m\u001b[0mobj\u001b[0m\u001b[0;34m.\u001b[0m\u001b[0m_constructor_expanddim\u001b[0m\u001b[0;34m,\u001b[0m\u001b[0;34m\u001b[0m\u001b[0;34m\u001b[0m\u001b[0m\n\u001b[0m\u001b[1;32m    420\u001b[0m         )\n\u001b[1;32m    421\u001b[0m         \u001b[0;32mreturn\u001b[0m \u001b[0munstacker\u001b[0m\u001b[0;34m.\u001b[0m\u001b[0mget_result\u001b[0m\u001b[0;34m(\u001b[0m\u001b[0;34m)\u001b[0m\u001b[0;34m\u001b[0m\u001b[0;34m\u001b[0m\u001b[0m\n",
            "\u001b[0;32m/usr/local/lib/python3.6/dist-packages/pandas/core/reshape/reshape.py\u001b[0m in \u001b[0;36m__init__\u001b[0;34m(self, values, index, level, value_columns, fill_value, constructor)\u001b[0m\n\u001b[1;32m    136\u001b[0m \u001b[0;34m\u001b[0m\u001b[0m\n\u001b[1;32m    137\u001b[0m         \u001b[0;32mif\u001b[0m \u001b[0mnum_rows\u001b[0m \u001b[0;34m>\u001b[0m \u001b[0;36m0\u001b[0m \u001b[0;32mand\u001b[0m \u001b[0mnum_columns\u001b[0m \u001b[0;34m>\u001b[0m \u001b[0;36m0\u001b[0m \u001b[0;32mand\u001b[0m \u001b[0mnum_cells\u001b[0m \u001b[0;34m<=\u001b[0m \u001b[0;36m0\u001b[0m\u001b[0;34m:\u001b[0m\u001b[0;34m\u001b[0m\u001b[0;34m\u001b[0m\u001b[0m\n\u001b[0;32m--> 138\u001b[0;31m             \u001b[0;32mraise\u001b[0m \u001b[0mValueError\u001b[0m\u001b[0;34m(\u001b[0m\u001b[0;34m\"Unstacked DataFrame is too big, causing int32 overflow\"\u001b[0m\u001b[0;34m)\u001b[0m\u001b[0;34m\u001b[0m\u001b[0;34m\u001b[0m\u001b[0m\n\u001b[0m\u001b[1;32m    139\u001b[0m \u001b[0;34m\u001b[0m\u001b[0m\n\u001b[1;32m    140\u001b[0m         \u001b[0mself\u001b[0m\u001b[0;34m.\u001b[0m\u001b[0m_make_sorted_values_labels\u001b[0m\u001b[0;34m(\u001b[0m\u001b[0;34m)\u001b[0m\u001b[0;34m\u001b[0m\u001b[0;34m\u001b[0m\u001b[0m\n",
            "\u001b[0;31mValueError\u001b[0m: Unstacked DataFrame is too big, causing int32 overflow"
          ]
        }
      ]
    },
    {
      "cell_type": "markdown",
      "metadata": {
        "id": "zw_ZQREvq7Js",
        "colab_type": "text"
      },
      "source": [
        "# Dask"
      ]
    },
    {
      "cell_type": "code",
      "metadata": {
        "id": "i7iKp_CqrXg5",
        "colab_type": "code",
        "colab": {}
      },
      "source": [
        "!python -m pip install \"dask[complete]\"    # Install everything"
      ],
      "execution_count": null,
      "outputs": []
    },
    {
      "cell_type": "code",
      "metadata": {
        "id": "RYye8_5NrhJE",
        "colab_type": "code",
        "colab": {
          "base_uri": "https://localhost:8080/",
          "height": 68
        },
        "outputId": "71ef0651-558a-40ec-d393-77595954e192"
      },
      "source": [
        "from dask.distributed import Client\n",
        "client = Client(n_workers=4)\n",
        "import dask\n",
        "import dask.dataframe as pd"
      ],
      "execution_count": 47,
      "outputs": [
        {
          "output_type": "stream",
          "text": [
            "UserWarning: Port 8787 is already in use.\n",
            "Perhaps you already have a cluster running?\n",
            "Hosting the HTTP server on port 40853 instead\n"
          ],
          "name": "stderr"
        }
      ]
    },
    {
      "cell_type": "code",
      "metadata": {
        "id": "n4LAmHQGsx5-",
        "colab_type": "code",
        "colab": {}
      },
      "source": [
        "# path config\n",
        "#data_path = os.path.join(os.environ['DATA_PATH'], 'MovieLens')\n",
        "movies_filename = '/content/ml-latest/movies.csv'\n",
        "ratings_filename = '/content/ml-latest/ratings.csv'"
      ],
      "execution_count": 46,
      "outputs": []
    },
    {
      "cell_type": "code",
      "metadata": {
        "id": "cWhUWRqyrWkS",
        "colab_type": "code",
        "colab": {}
      },
      "source": [
        "df_movies = pd.read_csv(\n",
        "    movies_filename,\n",
        "    usecols=['movieId', 'title'],\n",
        "    dtype={'movieId': 'int32', 'title': 'str'})\n",
        "\n",
        "df_ratings = pd.read_csv(\n",
        "    ratings_filename,\n",
        "    usecols=['userId', 'movieId', 'rating'],\n",
        "    dtype={'userId': 'int32', 'movieId': 'int32', 'rating': 'float32'})"
      ],
      "execution_count": 48,
      "outputs": []
    },
    {
      "cell_type": "code",
      "metadata": {
        "id": "Jb47I2-61r4u",
        "colab_type": "code",
        "colab": {
          "base_uri": "https://localhost:8080/",
          "height": 68
        },
        "outputId": "0d95e51c-cf61-4578-d7ef-b3c884c48d8d"
      },
      "source": [
        "df_movies.info()"
      ],
      "execution_count": 49,
      "outputs": [
        {
          "output_type": "stream",
          "text": [
            "<class 'dask.dataframe.core.DataFrame'>\n",
            "Columns: 2 entries, movieId to title\n",
            "dtypes: object(1), int32(1)"
          ],
          "name": "stdout"
        }
      ]
    },
    {
      "cell_type": "code",
      "metadata": {
        "id": "TsSOGE9H1tED",
        "colab_type": "code",
        "colab": {
          "base_uri": "https://localhost:8080/",
          "height": 68
        },
        "outputId": "f97886e2-58bf-4a11-af55-a9c88fad43e2"
      },
      "source": [
        "df_ratings.info()"
      ],
      "execution_count": 50,
      "outputs": [
        {
          "output_type": "stream",
          "text": [
            "<class 'dask.dataframe.core.DataFrame'>\n",
            "Columns: 3 entries, userId to rating\n",
            "dtypes: float32(1), int32(2)"
          ],
          "name": "stdout"
        }
      ]
    },
    {
      "cell_type": "code",
      "metadata": {
        "id": "Zmn6Rce91tzZ",
        "colab_type": "code",
        "colab": {}
      },
      "source": [
        "df_ratings_drop_movies=df_ratings\n",
        "df_ratings_drop_users = df_ratings_drop_movies"
      ],
      "execution_count": 51,
      "outputs": []
    },
    {
      "cell_type": "code",
      "metadata": {
        "id": "JIb-wBJL1wjX",
        "colab_type": "code",
        "colab": {
          "base_uri": "https://localhost:8080/",
          "height": 269
        },
        "outputId": "f1db7487-e6fc-4cb6-939b-85220b60542b"
      },
      "source": [
        "df_ratings_drop_users"
      ],
      "execution_count": 52,
      "outputs": [
        {
          "output_type": "execute_result",
          "data": {
            "text/html": [
              "<div><strong>Dask DataFrame Structure:</strong></div>\n",
              "<div>\n",
              "<style scoped>\n",
              "    .dataframe tbody tr th:only-of-type {\n",
              "        vertical-align: middle;\n",
              "    }\n",
              "\n",
              "    .dataframe tbody tr th {\n",
              "        vertical-align: top;\n",
              "    }\n",
              "\n",
              "    .dataframe thead th {\n",
              "        text-align: right;\n",
              "    }\n",
              "</style>\n",
              "<table border=\"1\" class=\"dataframe\">\n",
              "  <thead>\n",
              "    <tr style=\"text-align: right;\">\n",
              "      <th></th>\n",
              "      <th>userId</th>\n",
              "      <th>movieId</th>\n",
              "      <th>rating</th>\n",
              "    </tr>\n",
              "    <tr>\n",
              "      <th>npartitions=12</th>\n",
              "      <th></th>\n",
              "      <th></th>\n",
              "      <th></th>\n",
              "    </tr>\n",
              "  </thead>\n",
              "  <tbody>\n",
              "    <tr>\n",
              "      <th></th>\n",
              "      <td>int32</td>\n",
              "      <td>int32</td>\n",
              "      <td>float32</td>\n",
              "    </tr>\n",
              "    <tr>\n",
              "      <th></th>\n",
              "      <td>...</td>\n",
              "      <td>...</td>\n",
              "      <td>...</td>\n",
              "    </tr>\n",
              "    <tr>\n",
              "      <th>...</th>\n",
              "      <td>...</td>\n",
              "      <td>...</td>\n",
              "      <td>...</td>\n",
              "    </tr>\n",
              "    <tr>\n",
              "      <th></th>\n",
              "      <td>...</td>\n",
              "      <td>...</td>\n",
              "      <td>...</td>\n",
              "    </tr>\n",
              "    <tr>\n",
              "      <th></th>\n",
              "      <td>...</td>\n",
              "      <td>...</td>\n",
              "      <td>...</td>\n",
              "    </tr>\n",
              "  </tbody>\n",
              "</table>\n",
              "</div>\n",
              "<div>Dask Name: from-delayed, 36 tasks</div>"
            ],
            "text/plain": [
              "Dask DataFrame Structure:\n",
              "               userId movieId   rating\n",
              "npartitions=12                        \n",
              "                int32   int32  float32\n",
              "                  ...     ...      ...\n",
              "...               ...     ...      ...\n",
              "                  ...     ...      ...\n",
              "                  ...     ...      ...\n",
              "Dask Name: from-delayed, 36 tasks"
            ]
          },
          "metadata": {
            "tags": []
          },
          "execution_count": 52
        }
      ]
    },
    {
      "cell_type": "code",
      "metadata": {
        "id": "TiyjUGQf1xcW",
        "colab_type": "code",
        "colab": {
          "base_uri": "https://localhost:8080/",
          "height": 316
        },
        "outputId": "1b7fff40-267a-4b5b-e1fc-52713cac3c15"
      },
      "source": [
        "# pivot and create movie-user matrix\n",
        "movie_user_mat = df_ratings_drop_users.pivot(index='movieId', columns='userId',\n",
        "                                             values='rating')"
      ],
      "execution_count": 53,
      "outputs": [
        {
          "output_type": "error",
          "ename": "AttributeError",
          "evalue": "ignored",
          "traceback": [
            "\u001b[0;31m---------------------------------------------------------------------------\u001b[0m",
            "\u001b[0;31mAttributeError\u001b[0m                            Traceback (most recent call last)",
            "\u001b[0;32m<ipython-input-53-99400f6c9ba5>\u001b[0m in \u001b[0;36m<module>\u001b[0;34m()\u001b[0m\n\u001b[1;32m      1\u001b[0m \u001b[0;31m# pivot and create movie-user matrix\u001b[0m\u001b[0;34m\u001b[0m\u001b[0;34m\u001b[0m\u001b[0;34m\u001b[0m\u001b[0m\n\u001b[0;32m----> 2\u001b[0;31m movie_user_mat = df_ratings_drop_users.pivot(index='movieId', columns='userId',\n\u001b[0m\u001b[1;32m      3\u001b[0m                                              values='rating')\n",
            "\u001b[0;32m/usr/local/lib/python3.6/dist-packages/dask/dataframe/core.py\u001b[0m in \u001b[0;36m__getattr__\u001b[0;34m(self, key)\u001b[0m\n\u001b[1;32m   3439\u001b[0m             \u001b[0;32mreturn\u001b[0m \u001b[0mself\u001b[0m\u001b[0;34m[\u001b[0m\u001b[0mkey\u001b[0m\u001b[0;34m]\u001b[0m\u001b[0;34m\u001b[0m\u001b[0;34m\u001b[0m\u001b[0m\n\u001b[1;32m   3440\u001b[0m         \u001b[0;32melse\u001b[0m\u001b[0;34m:\u001b[0m\u001b[0;34m\u001b[0m\u001b[0;34m\u001b[0m\u001b[0m\n\u001b[0;32m-> 3441\u001b[0;31m             \u001b[0;32mraise\u001b[0m \u001b[0mAttributeError\u001b[0m\u001b[0;34m(\u001b[0m\u001b[0;34m\"'DataFrame' object has no attribute %r\"\u001b[0m \u001b[0;34m%\u001b[0m \u001b[0mkey\u001b[0m\u001b[0;34m)\u001b[0m\u001b[0;34m\u001b[0m\u001b[0;34m\u001b[0m\u001b[0m\n\u001b[0m\u001b[1;32m   3442\u001b[0m \u001b[0;34m\u001b[0m\u001b[0m\n\u001b[1;32m   3443\u001b[0m     \u001b[0;32mdef\u001b[0m \u001b[0m__dir__\u001b[0m\u001b[0;34m(\u001b[0m\u001b[0mself\u001b[0m\u001b[0;34m)\u001b[0m\u001b[0;34m:\u001b[0m\u001b[0;34m\u001b[0m\u001b[0;34m\u001b[0m\u001b[0m\n",
            "\u001b[0;31mAttributeError\u001b[0m: 'DataFrame' object has no attribute 'pivot'"
          ]
        }
      ]
    },
    {
      "cell_type": "code",
      "metadata": {
        "id": "jRXOhF_e1yr0",
        "colab_type": "code",
        "colab": {}
      },
      "source": [
        ""
      ],
      "execution_count": null,
      "outputs": []
    }
  ]
}